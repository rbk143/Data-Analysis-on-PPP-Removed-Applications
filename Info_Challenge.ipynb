{
 "cells": [
  {
   "cell_type": "code",
   "execution_count": 1,
   "metadata": {
    "id": "NlhZpRy9u5bV"
   },
   "outputs": [],
   "source": [
    "import pandas as pd\n",
    "import seaborn as sns\n",
    "import numpy as np\n",
    "import matplotlib.pyplot as plt"
   ]
  },
  {
   "cell_type": "code",
   "execution_count": 2,
   "metadata": {
    "id": "MfzqBNaovFd1"
   },
   "outputs": [],
   "source": [
    "# displays output inline\n",
    "#%matplotlib inline"
   ]
  },
  {
   "cell_type": "code",
   "execution_count": 3,
   "metadata": {
    "colab": {
     "base_uri": "https://localhost:8080/"
    },
    "id": "jgxOz2zbwcc7",
    "outputId": "356c0c68-8533-4e52-c9f3-bcbdd8e6dbe0"
   },
   "outputs": [],
   "source": [
    "#from google.colab import drive\n",
    "#drive.mount('/content/drive')"
   ]
  },
  {
   "cell_type": "code",
   "execution_count": 4,
   "metadata": {
    "colab": {
     "base_uri": "https://localhost:8080/",
     "height": 496
    },
    "id": "C4pbUg13vmu7",
    "outputId": "9a90fb21-5f7c-4e49-a6a7-d00ae3ae057f"
   },
   "outputs": [
    {
     "data": {
      "text/html": [
       "<div>\n",
       "<style scoped>\n",
       "    .dataframe tbody tr th:only-of-type {\n",
       "        vertical-align: middle;\n",
       "    }\n",
       "\n",
       "    .dataframe tbody tr th {\n",
       "        vertical-align: top;\n",
       "    }\n",
       "\n",
       "    .dataframe thead th {\n",
       "        text-align: right;\n",
       "    }\n",
       "</style>\n",
       "<table border=\"1\" class=\"dataframe\">\n",
       "  <thead>\n",
       "    <tr style=\"text-align: right;\">\n",
       "      <th></th>\n",
       "      <th>name</th>\n",
       "      <th>amount</th>\n",
       "      <th>state</th>\n",
       "      <th>address</th>\n",
       "      <th>city</th>\n",
       "      <th>zip</th>\n",
       "      <th>naics_code</th>\n",
       "      <th>business_type</th>\n",
       "      <th>jobs_retained</th>\n",
       "      <th>date_approved</th>\n",
       "      <th>...</th>\n",
       "      <th>project_county_name</th>\n",
       "      <th>project_state</th>\n",
       "      <th>project_zip</th>\n",
       "      <th>originating_lender_city</th>\n",
       "      <th>originating_lender_state</th>\n",
       "      <th>loan_status_date</th>\n",
       "      <th>originating_lender_location_id</th>\n",
       "      <th>lmi_indicator</th>\n",
       "      <th>forgiveness_amount</th>\n",
       "      <th>forgiveness_date</th>\n",
       "    </tr>\n",
       "  </thead>\n",
       "  <tbody>\n",
       "    <tr>\n",
       "      <th>0</th>\n",
       "      <td>TRIPLE C CUSTOM CONCRETE LLC</td>\n",
       "      <td>43655.0</td>\n",
       "      <td>GA</td>\n",
       "      <td>106 Lisa Street  East Dublin GA</td>\n",
       "      <td>East Dublin</td>\n",
       "      <td>31027</td>\n",
       "      <td>238990</td>\n",
       "      <td>Limited  Liability Company(LLC)</td>\n",
       "      <td>7</td>\n",
       "      <td>2021-05-11</td>\n",
       "      <td>...</td>\n",
       "      <td>LAURENS</td>\n",
       "      <td>GA</td>\n",
       "      <td>31027</td>\n",
       "      <td>Saint Petersburg</td>\n",
       "      <td>FL</td>\n",
       "      <td>2021-05-11</td>\n",
       "      <td>123499</td>\n",
       "      <td>Y</td>\n",
       "      <td>NaN</td>\n",
       "      <td>NaN</td>\n",
       "    </tr>\n",
       "    <tr>\n",
       "      <th>1</th>\n",
       "      <td>DAVIS LAWN CARE SERVICES</td>\n",
       "      <td>35000.0</td>\n",
       "      <td>GA</td>\n",
       "      <td>752 Savannah Ave N/A</td>\n",
       "      <td>Waynesboro</td>\n",
       "      <td>30830-1156</td>\n",
       "      <td>112910</td>\n",
       "      <td>Partnership</td>\n",
       "      <td>2</td>\n",
       "      <td>2021-05-12</td>\n",
       "      <td>...</td>\n",
       "      <td>BURKE</td>\n",
       "      <td>GA</td>\n",
       "      <td>30830-1156</td>\n",
       "      <td>ARLINGTON</td>\n",
       "      <td>MA</td>\n",
       "      <td>2021-05-12</td>\n",
       "      <td>262380</td>\n",
       "      <td>N</td>\n",
       "      <td>NaN</td>\n",
       "      <td>NaN</td>\n",
       "    </tr>\n",
       "    <tr>\n",
       "      <th>2</th>\n",
       "      <td>LONNIE RATLIFF</td>\n",
       "      <td>28949.0</td>\n",
       "      <td>GA</td>\n",
       "      <td>55 Maple St NW Apt 802</td>\n",
       "      <td>Atlanta</td>\n",
       "      <td>30314-4760</td>\n",
       "      <td>531390</td>\n",
       "      <td>Single Member LLC</td>\n",
       "      <td>5</td>\n",
       "      <td>2021-04-16</td>\n",
       "      <td>...</td>\n",
       "      <td>FULTON</td>\n",
       "      <td>GA</td>\n",
       "      <td>30314-4760</td>\n",
       "      <td>PHOENIXVILLE</td>\n",
       "      <td>PA</td>\n",
       "      <td>2021-04-16</td>\n",
       "      <td>121536</td>\n",
       "      <td>Y</td>\n",
       "      <td>NaN</td>\n",
       "      <td>NaN</td>\n",
       "    </tr>\n",
       "    <tr>\n",
       "      <th>3</th>\n",
       "      <td>DENARD TRIMBLE</td>\n",
       "      <td>20833.0</td>\n",
       "      <td>GA</td>\n",
       "      <td>727 Chapman St</td>\n",
       "      <td>Jonesboro</td>\n",
       "      <td>30238-5681</td>\n",
       "      <td>812111</td>\n",
       "      <td>Sole Proprietorship</td>\n",
       "      <td>1</td>\n",
       "      <td>2021-05-22</td>\n",
       "      <td>...</td>\n",
       "      <td>FAYETTE</td>\n",
       "      <td>GA</td>\n",
       "      <td>30238-5681</td>\n",
       "      <td>Brea</td>\n",
       "      <td>CA</td>\n",
       "      <td>2021-05-22</td>\n",
       "      <td>514546</td>\n",
       "      <td>Y</td>\n",
       "      <td>NaN</td>\n",
       "      <td>NaN</td>\n",
       "    </tr>\n",
       "    <tr>\n",
       "      <th>4</th>\n",
       "      <td>DANA VINES</td>\n",
       "      <td>20833.0</td>\n",
       "      <td>GA</td>\n",
       "      <td>3548 Tracey Dr</td>\n",
       "      <td>Duluth</td>\n",
       "      <td>30096-3861</td>\n",
       "      <td>311999</td>\n",
       "      <td>Sole Proprietorship</td>\n",
       "      <td>1</td>\n",
       "      <td>2021-03-20</td>\n",
       "      <td>...</td>\n",
       "      <td>GWINNETT</td>\n",
       "      <td>GA</td>\n",
       "      <td>30096-3861</td>\n",
       "      <td>Miami</td>\n",
       "      <td>FL</td>\n",
       "      <td>2021-03-20</td>\n",
       "      <td>529192</td>\n",
       "      <td>N</td>\n",
       "      <td>NaN</td>\n",
       "      <td>NaN</td>\n",
       "    </tr>\n",
       "  </tbody>\n",
       "</table>\n",
       "<p>5 rows × 41 columns</p>\n",
       "</div>"
      ],
      "text/plain": [
       "                           name   amount state  \\\n",
       "0  TRIPLE C CUSTOM CONCRETE LLC  43655.0    GA   \n",
       "1      DAVIS LAWN CARE SERVICES  35000.0    GA   \n",
       "2                LONNIE RATLIFF  28949.0    GA   \n",
       "3                DENARD TRIMBLE  20833.0    GA   \n",
       "4                    DANA VINES  20833.0    GA   \n",
       "\n",
       "                           address         city         zip  naics_code  \\\n",
       "0  106 Lisa Street  East Dublin GA  East Dublin       31027      238990   \n",
       "1             752 Savannah Ave N/A   Waynesboro  30830-1156      112910   \n",
       "2           55 Maple St NW Apt 802      Atlanta  30314-4760      531390   \n",
       "3                   727 Chapman St    Jonesboro  30238-5681      812111   \n",
       "4                   3548 Tracey Dr       Duluth  30096-3861      311999   \n",
       "\n",
       "                     business_type  jobs_retained date_approved  ...  \\\n",
       "0  Limited  Liability Company(LLC)              7    2021-05-11  ...   \n",
       "1                      Partnership              2    2021-05-12  ...   \n",
       "2                Single Member LLC              5    2021-04-16  ...   \n",
       "3              Sole Proprietorship              1    2021-05-22  ...   \n",
       "4              Sole Proprietorship              1    2021-03-20  ...   \n",
       "\n",
       "  project_county_name project_state  project_zip  originating_lender_city  \\\n",
       "0             LAURENS            GA        31027         Saint Petersburg   \n",
       "1               BURKE            GA   30830-1156                ARLINGTON   \n",
       "2              FULTON            GA   30314-4760             PHOENIXVILLE   \n",
       "3             FAYETTE            GA   30238-5681                     Brea   \n",
       "4            GWINNETT            GA   30096-3861                    Miami   \n",
       "\n",
       "  originating_lender_state loan_status_date  originating_lender_location_id  \\\n",
       "0                       FL       2021-05-11                          123499   \n",
       "1                       MA       2021-05-12                          262380   \n",
       "2                       PA       2021-04-16                          121536   \n",
       "3                       CA       2021-05-22                          514546   \n",
       "4                       FL       2021-03-20                          529192   \n",
       "\n",
       "   lmi_indicator  forgiveness_amount  forgiveness_date  \n",
       "0              Y                 NaN               NaN  \n",
       "1              N                 NaN               NaN  \n",
       "2              Y                 NaN               NaN  \n",
       "3              Y                 NaN               NaN  \n",
       "4              N                 NaN               NaN  \n",
       "\n",
       "[5 rows x 41 columns]"
      ]
     },
     "execution_count": 4,
     "metadata": {},
     "output_type": "execute_result"
    }
   ],
   "source": [
    "removed = pd.read_excel(\"D:/case competitions/Info Challenge/Data_PPP/ppp-removed-ga.xlsx\")\n",
    "removed.head()"
   ]
  },
  {
   "cell_type": "code",
   "execution_count": 5,
   "metadata": {
    "colab": {
     "base_uri": "https://localhost:8080/"
    },
    "id": "gPWBHORuyHTy",
    "outputId": "9cdaaf8c-cb02-4887-afb3-756b326b2dee"
   },
   "outputs": [
    {
     "name": "stdout",
     "output_type": "stream",
     "text": [
      "Null in name : 0 out of 25836\n",
      "Null in amount : 0 out of 25836\n",
      "Null in state : 0 out of 25836\n",
      "Null in address : 0 out of 25836\n",
      "Null in city : 0 out of 25836\n",
      "Null in zip : 0 out of 25836\n",
      "Null in naics_code : 0 out of 25836\n",
      "Null in business_type : 0 out of 25836\n",
      "Null in jobs_retained : 0 out of 25836\n",
      "Null in date_approved : 0 out of 25836\n",
      "Null in lender : 0 out of 25836\n",
      "Null in congressional_district : 0 out of 25836\n",
      "Null in loan_number : 0 out of 25836\n",
      "Null in sba_office_code : 0 out of 25836\n",
      "Null in processing_method : 0 out of 25836\n",
      "Null in loan_status : 0 out of 25836\n",
      "Null in term : 0 out of 25836\n",
      "Null in sba_guaranty_percentage : 0 out of 25836\n",
      "Null in initial_approval_amount : 0 out of 25836\n",
      "Null in current_approval_amount : 0 out of 25836\n",
      "Null in undisbursed_amount : 1 out of 25836\n",
      "Null in servicing_lender_location_id : 0 out of 25836\n",
      "Null in servicing_lender_name : 0 out of 25836\n",
      "Null in servicing_lender_address : 0 out of 25836\n",
      "Null in servicing_lender_city : 0 out of 25836\n",
      "Null in servicing_lender_state : 0 out of 25836\n",
      "Null in servicing_lender_zip : 0 out of 25836\n",
      "Null in rural_urban_indicator : 0 out of 25836\n",
      "Null in hubzone_indicator : 0 out of 25836\n",
      "Null in business_age_description : 0 out of 25836\n",
      "Null in project_city : 0 out of 25836\n",
      "Null in project_county_name : 0 out of 25836\n",
      "Null in project_state : 0 out of 25836\n",
      "Null in project_zip : 0 out of 25836\n",
      "Null in originating_lender_city : 0 out of 25836\n",
      "Null in originating_lender_state : 0 out of 25836\n",
      "Null in loan_status_date : 2505 out of 25836\n",
      "Null in originating_lender_location_id : 0 out of 25836\n",
      "Null in lmi_indicator : 0 out of 25836\n",
      "Null in forgiveness_amount : 25836 out of 25836\n",
      "Null in forgiveness_date : 25836 out of 25836\n"
     ]
    }
   ],
   "source": [
    "for col in removed.columns:\n",
    "  print(\"Null in %s : %d out of %d\"%(col,removed[col].isna().sum(),removed.shape[0]))"
   ]
  },
  {
   "cell_type": "code",
   "execution_count": 6,
   "metadata": {
    "colab": {
     "base_uri": "https://localhost:8080/",
     "height": 364
    },
    "id": "S-9QIE_dhswu",
    "outputId": "b142b24b-fb20-4228-fc74-89c65caf3826"
   },
   "outputs": [
    {
     "data": {
      "text/html": [
       "<div>\n",
       "<style scoped>\n",
       "    .dataframe tbody tr th:only-of-type {\n",
       "        vertical-align: middle;\n",
       "    }\n",
       "\n",
       "    .dataframe tbody tr th {\n",
       "        vertical-align: top;\n",
       "    }\n",
       "\n",
       "    .dataframe thead th {\n",
       "        text-align: right;\n",
       "    }\n",
       "</style>\n",
       "<table border=\"1\" class=\"dataframe\">\n",
       "  <thead>\n",
       "    <tr style=\"text-align: right;\">\n",
       "      <th></th>\n",
       "      <th>amount</th>\n",
       "      <th>naics_code</th>\n",
       "      <th>jobs_retained</th>\n",
       "      <th>loan_number</th>\n",
       "      <th>sba_office_code</th>\n",
       "      <th>term</th>\n",
       "      <th>sba_guaranty_percentage</th>\n",
       "      <th>initial_approval_amount</th>\n",
       "      <th>current_approval_amount</th>\n",
       "      <th>undisbursed_amount</th>\n",
       "      <th>servicing_lender_location_id</th>\n",
       "      <th>originating_lender_location_id</th>\n",
       "      <th>forgiveness_amount</th>\n",
       "      <th>forgiveness_date</th>\n",
       "    </tr>\n",
       "  </thead>\n",
       "  <tbody>\n",
       "    <tr>\n",
       "      <th>count</th>\n",
       "      <td>2.583600e+04</td>\n",
       "      <td>25836.000000</td>\n",
       "      <td>25836.000000</td>\n",
       "      <td>2.583600e+04</td>\n",
       "      <td>25836.0</td>\n",
       "      <td>25836.000000</td>\n",
       "      <td>25836.0</td>\n",
       "      <td>2.583600e+04</td>\n",
       "      <td>2.583600e+04</td>\n",
       "      <td>2.583500e+04</td>\n",
       "      <td>25836.000000</td>\n",
       "      <td>25836.000000</td>\n",
       "      <td>0.0</td>\n",
       "      <td>0.0</td>\n",
       "    </tr>\n",
       "    <tr>\n",
       "      <th>mean</th>\n",
       "      <td>1.999880e+04</td>\n",
       "      <td>585683.342545</td>\n",
       "      <td>1.280423</td>\n",
       "      <td>6.143559e+09</td>\n",
       "      <td>405.0</td>\n",
       "      <td>59.892708</td>\n",
       "      <td>100.0</td>\n",
       "      <td>2.003320e+04</td>\n",
       "      <td>1.999880e+04</td>\n",
       "      <td>1.826408e+04</td>\n",
       "      <td>376921.468068</td>\n",
       "      <td>377062.431801</td>\n",
       "      <td>NaN</td>\n",
       "      <td>NaN</td>\n",
       "    </tr>\n",
       "    <tr>\n",
       "      <th>std</th>\n",
       "      <td>6.836528e+04</td>\n",
       "      <td>179477.217495</td>\n",
       "      <td>3.954098</td>\n",
       "      <td>2.640659e+09</td>\n",
       "      <td>0.0</td>\n",
       "      <td>1.962436</td>\n",
       "      <td>0.0</td>\n",
       "      <td>6.837832e+04</td>\n",
       "      <td>6.836528e+04</td>\n",
       "      <td>6.845939e+04</td>\n",
       "      <td>173107.376794</td>\n",
       "      <td>173039.576934</td>\n",
       "      <td>NaN</td>\n",
       "      <td>NaN</td>\n",
       "    </tr>\n",
       "    <tr>\n",
       "      <th>min</th>\n",
       "      <td>1.020000e+02</td>\n",
       "      <td>111110.000000</td>\n",
       "      <td>1.000000</td>\n",
       "      <td>1.000249e+09</td>\n",
       "      <td>405.0</td>\n",
       "      <td>24.000000</td>\n",
       "      <td>100.0</td>\n",
       "      <td>1.020000e+02</td>\n",
       "      <td>1.020000e+02</td>\n",
       "      <td>0.000000e+00</td>\n",
       "      <td>2408.000000</td>\n",
       "      <td>2408.000000</td>\n",
       "      <td>NaN</td>\n",
       "      <td>NaN</td>\n",
       "    </tr>\n",
       "    <tr>\n",
       "      <th>25%</th>\n",
       "      <td>1.479100e+04</td>\n",
       "      <td>484110.000000</td>\n",
       "      <td>1.000000</td>\n",
       "      <td>3.972551e+09</td>\n",
       "      <td>405.0</td>\n",
       "      <td>60.000000</td>\n",
       "      <td>100.0</td>\n",
       "      <td>1.494075e+04</td>\n",
       "      <td>1.479100e+04</td>\n",
       "      <td>1.000000e+04</td>\n",
       "      <td>188361.000000</td>\n",
       "      <td>188361.000000</td>\n",
       "      <td>NaN</td>\n",
       "      <td>NaN</td>\n",
       "    </tr>\n",
       "    <tr>\n",
       "      <th>50%</th>\n",
       "      <td>2.051000e+04</td>\n",
       "      <td>561499.000000</td>\n",
       "      <td>1.000000</td>\n",
       "      <td>6.577589e+09</td>\n",
       "      <td>405.0</td>\n",
       "      <td>60.000000</td>\n",
       "      <td>100.0</td>\n",
       "      <td>2.051500e+04</td>\n",
       "      <td>2.051000e+04</td>\n",
       "      <td>2.028200e+04</td>\n",
       "      <td>509316.000000</td>\n",
       "      <td>509316.000000</td>\n",
       "      <td>NaN</td>\n",
       "      <td>NaN</td>\n",
       "    </tr>\n",
       "    <tr>\n",
       "      <th>75%</th>\n",
       "      <td>2.083200e+04</td>\n",
       "      <td>811211.000000</td>\n",
       "      <td>1.000000</td>\n",
       "      <td>8.379621e+09</td>\n",
       "      <td>405.0</td>\n",
       "      <td>60.000000</td>\n",
       "      <td>100.0</td>\n",
       "      <td>2.083250e+04</td>\n",
       "      <td>2.083200e+04</td>\n",
       "      <td>2.083200e+04</td>\n",
       "      <td>529471.000000</td>\n",
       "      <td>529471.000000</td>\n",
       "      <td>NaN</td>\n",
       "      <td>NaN</td>\n",
       "    </tr>\n",
       "    <tr>\n",
       "      <th>max</th>\n",
       "      <td>1.000000e+07</td>\n",
       "      <td>999990.000000</td>\n",
       "      <td>495.000000</td>\n",
       "      <td>9.998679e+09</td>\n",
       "      <td>405.0</td>\n",
       "      <td>60.000000</td>\n",
       "      <td>100.0</td>\n",
       "      <td>1.000000e+07</td>\n",
       "      <td>1.000000e+07</td>\n",
       "      <td>1.000000e+07</td>\n",
       "      <td>531105.000000</td>\n",
       "      <td>533279.000000</td>\n",
       "      <td>NaN</td>\n",
       "      <td>NaN</td>\n",
       "    </tr>\n",
       "  </tbody>\n",
       "</table>\n",
       "</div>"
      ],
      "text/plain": [
       "             amount     naics_code  jobs_retained   loan_number  \\\n",
       "count  2.583600e+04   25836.000000   25836.000000  2.583600e+04   \n",
       "mean   1.999880e+04  585683.342545       1.280423  6.143559e+09   \n",
       "std    6.836528e+04  179477.217495       3.954098  2.640659e+09   \n",
       "min    1.020000e+02  111110.000000       1.000000  1.000249e+09   \n",
       "25%    1.479100e+04  484110.000000       1.000000  3.972551e+09   \n",
       "50%    2.051000e+04  561499.000000       1.000000  6.577589e+09   \n",
       "75%    2.083200e+04  811211.000000       1.000000  8.379621e+09   \n",
       "max    1.000000e+07  999990.000000     495.000000  9.998679e+09   \n",
       "\n",
       "       sba_office_code          term  sba_guaranty_percentage  \\\n",
       "count          25836.0  25836.000000                  25836.0   \n",
       "mean             405.0     59.892708                    100.0   \n",
       "std                0.0      1.962436                      0.0   \n",
       "min              405.0     24.000000                    100.0   \n",
       "25%              405.0     60.000000                    100.0   \n",
       "50%              405.0     60.000000                    100.0   \n",
       "75%              405.0     60.000000                    100.0   \n",
       "max              405.0     60.000000                    100.0   \n",
       "\n",
       "       initial_approval_amount  current_approval_amount  undisbursed_amount  \\\n",
       "count             2.583600e+04             2.583600e+04        2.583500e+04   \n",
       "mean              2.003320e+04             1.999880e+04        1.826408e+04   \n",
       "std               6.837832e+04             6.836528e+04        6.845939e+04   \n",
       "min               1.020000e+02             1.020000e+02        0.000000e+00   \n",
       "25%               1.494075e+04             1.479100e+04        1.000000e+04   \n",
       "50%               2.051500e+04             2.051000e+04        2.028200e+04   \n",
       "75%               2.083250e+04             2.083200e+04        2.083200e+04   \n",
       "max               1.000000e+07             1.000000e+07        1.000000e+07   \n",
       "\n",
       "       servicing_lender_location_id  originating_lender_location_id  \\\n",
       "count                  25836.000000                    25836.000000   \n",
       "mean                  376921.468068                   377062.431801   \n",
       "std                   173107.376794                   173039.576934   \n",
       "min                     2408.000000                     2408.000000   \n",
       "25%                   188361.000000                   188361.000000   \n",
       "50%                   509316.000000                   509316.000000   \n",
       "75%                   529471.000000                   529471.000000   \n",
       "max                   531105.000000                   533279.000000   \n",
       "\n",
       "       forgiveness_amount  forgiveness_date  \n",
       "count                 0.0               0.0  \n",
       "mean                  NaN               NaN  \n",
       "std                   NaN               NaN  \n",
       "min                   NaN               NaN  \n",
       "25%                   NaN               NaN  \n",
       "50%                   NaN               NaN  \n",
       "75%                   NaN               NaN  \n",
       "max                   NaN               NaN  "
      ]
     },
     "execution_count": 6,
     "metadata": {},
     "output_type": "execute_result"
    }
   ],
   "source": [
    "dup = removed\n",
    "dup.describe()"
   ]
  },
  {
   "cell_type": "code",
   "execution_count": 7,
   "metadata": {
    "id": "HuWDlb48kAr1"
   },
   "outputs": [],
   "source": [
    "#dummies = dup[\"naics_code\",\"sba_office_code\",\"originating_lender_location_id\"]"
   ]
  },
  {
   "cell_type": "code",
   "execution_count": 8,
   "metadata": {
    "id": "4f43UxABnZJg"
   },
   "outputs": [],
   "source": [
    "num = dup._get_numeric_data().columns.drop([\"naics_code\",\"sba_office_code\",\"originating_lender_location_id\"])"
   ]
  },
  {
   "cell_type": "code",
   "execution_count": 9,
   "metadata": {
    "id": "doKYz89lifmf"
   },
   "outputs": [],
   "source": [
    "dup[\"naics_code\"] = dup[\"naics_code\"].apply(str)\n",
    "##dup[\"sba_guaranty_percentage\"] = str(dup[\"sba_guaranty_percentage\"])\n",
    "##dup[\"loan_number\"] = str(dup[\"loan_number\"])\n",
    "dup[\"sba_office_code\"] = dup[\"sba_office_code\"].apply(str)\n",
    "##dup[\"term\"] = str(dup[\"term\"])\n",
    "dup[\"originating_lender_location_id\"] = dup[\"originating_lender_location_id\"].apply(str)"
   ]
  },
  {
   "cell_type": "code",
   "execution_count": 10,
   "metadata": {
    "colab": {
     "base_uri": "https://localhost:8080/",
     "height": 297
    },
    "id": "g2bjCQZtnNP7",
    "outputId": "90e4abd1-3201-432c-ea10-8bef40f5691f"
   },
   "outputs": [
    {
     "data": {
      "text/plain": [
       "<AxesSubplot:xlabel='amount', ylabel='Count'>"
      ]
     },
     "execution_count": 10,
     "metadata": {},
     "output_type": "execute_result"
    },
    {
     "data": {
      "image/png": "[encoded data removed]",
      "text/plain": [
       "<Figure size 432x288 with 1 Axes>"
      ]
     },
     "metadata": {
      "needs_background": "light"
     },
     "output_type": "display_data"
    }
   ],
   "source": [
    "sns.histplot(data=dup, x=\"amount\",bins = 30)"
   ]
  },
  {
   "cell_type": "code",
   "execution_count": 11,
   "metadata": {
    "colab": {
     "base_uri": "https://localhost:8080/"
    },
    "id": "gZaUxHkqs0uH",
    "outputId": "8c2cbf64-e2dc-4793-e550-079ba4df4fcf"
   },
   "outputs": [
    {
     "data": {
      "text/plain": [
       "10000000.0"
      ]
     },
     "execution_count": 11,
     "metadata": {},
     "output_type": "execute_result"
    }
   ],
   "source": [
    "max(dup.amount)"
   ]
  },
  {
   "cell_type": "code",
   "execution_count": 12,
   "metadata": {
    "colab": {
     "base_uri": "https://localhost:8080/",
     "height": 293
    },
    "id": "I1c3dkyD4G_T",
    "outputId": "5f64e7c4-d0a8-4291-97cf-3579237a9643"
   },
   "outputs": [
    {
     "data": {
      "text/plain": [
       "[<matplotlib.lines.Line2D at 0x2548b4d37c0>]"
      ]
     },
     "execution_count": 12,
     "metadata": {},
     "output_type": "execute_result"
    },
    {
     "data": {
      "image/png": "[encoded data removed]",
      "text/plain": [
       "<Figure size 432x288 with 1 Axes>"
      ]
     },
     "metadata": {
      "needs_background": "light"
     },
     "output_type": "display_data"
    }
   ],
   "source": [
    "plt.plot(dup.amount)"
   ]
  },
  {
   "cell_type": "code",
   "execution_count": 13,
   "metadata": {
    "colab": {
     "base_uri": "https://localhost:8080/",
     "height": 301
    },
    "id": "mITl0BE8xz6H",
    "outputId": "b23f11cb-3ae4-4311-b655-7d5ef1c74113"
   },
   "outputs": [
    {
     "data": {
      "text/plain": [
       "<AxesSubplot:xlabel='date_approved', ylabel='Count'>"
      ]
     },
     "execution_count": 13,
     "metadata": {},
     "output_type": "execute_result"
    },
    {
     "data": {
      "image/png": "[encoded data removed]",
      "text/plain": [
       "<Figure size 432x288 with 1 Axes>"
      ]
     },
     "metadata": {
      "needs_background": "light"
     },
     "output_type": "display_data"
    }
   ],
   "source": [
    "sns.histplot(data=dup, x=\"date_approved\",bins = 30)"
   ]
  },
  {
   "cell_type": "code",
   "execution_count": 14,
   "metadata": {
    "colab": {
     "base_uri": "https://localhost:8080/",
     "height": 459
    },
    "id": "FWDQ_3WT0TDn",
    "outputId": "702f6e93-a14b-4301-dd16-a4e4158d8e89"
   },
   "outputs": [
    {
     "data": {
      "text/plain": [
       "<seaborn.axisgrid.JointGrid at 0x2548b4eb9a0>"
      ]
     },
     "execution_count": 14,
     "metadata": {},
     "output_type": "execute_result"
    },
    {
     "data": {
      "image/png": "[encoded data removed]",
      "text/plain": [
       "<Figure size 432x432 with 3 Axes>"
      ]
     },
     "metadata": {
      "needs_background": "light"
     },
     "output_type": "display_data"
    }
   ],
   "source": [
    "sns.jointplot(x = \"date_approved\", y= \"amount\",data = dup, kind = \"scatter\" )"
   ]
  },
  {
   "cell_type": "code",
   "execution_count": 15,
   "metadata": {
    "colab": {
     "base_uri": "https://localhost:8080/",
     "height": 214
    },
    "id": "4BZc7sal3zQi",
    "outputId": "590e1376-b31c-429d-ac7c-5a269c0f1e9e"
   },
   "outputs": [
    {
     "data": {
      "text/html": [
       "<div>\n",
       "<style scoped>\n",
       "    .dataframe tbody tr th:only-of-type {\n",
       "        vertical-align: middle;\n",
       "    }\n",
       "\n",
       "    .dataframe tbody tr th {\n",
       "        vertical-align: top;\n",
       "    }\n",
       "\n",
       "    .dataframe thead th {\n",
       "        text-align: right;\n",
       "    }\n",
       "</style>\n",
       "<table border=\"1\" class=\"dataframe\">\n",
       "  <thead>\n",
       "    <tr style=\"text-align: right;\">\n",
       "      <th></th>\n",
       "      <th>name</th>\n",
       "      <th>amount</th>\n",
       "      <th>state</th>\n",
       "      <th>address</th>\n",
       "      <th>city</th>\n",
       "      <th>zip</th>\n",
       "      <th>naics_code</th>\n",
       "      <th>business_type</th>\n",
       "      <th>jobs_retained</th>\n",
       "      <th>date_approved</th>\n",
       "      <th>...</th>\n",
       "      <th>project_county_name</th>\n",
       "      <th>project_state</th>\n",
       "      <th>project_zip</th>\n",
       "      <th>originating_lender_city</th>\n",
       "      <th>originating_lender_state</th>\n",
       "      <th>loan_status_date</th>\n",
       "      <th>originating_lender_location_id</th>\n",
       "      <th>lmi_indicator</th>\n",
       "      <th>forgiveness_amount</th>\n",
       "      <th>forgiveness_date</th>\n",
       "    </tr>\n",
       "  </thead>\n",
       "  <tbody>\n",
       "    <tr>\n",
       "      <th>19427</th>\n",
       "      <td>ADAISYER NORTH</td>\n",
       "      <td>10000000.0</td>\n",
       "      <td>GA</td>\n",
       "      <td>5150 Thompson Rd</td>\n",
       "      <td>Fairburn</td>\n",
       "      <td>30213-7700</td>\n",
       "      <td>446120</td>\n",
       "      <td>Sole Proprietorship</td>\n",
       "      <td>495</td>\n",
       "      <td>2021-04-10</td>\n",
       "      <td>...</td>\n",
       "      <td>FULTON</td>\n",
       "      <td>GA</td>\n",
       "      <td>30213-7700</td>\n",
       "      <td>LAKE SUCCESS</td>\n",
       "      <td>NY</td>\n",
       "      <td>2021-04-10</td>\n",
       "      <td>317954</td>\n",
       "      <td>N</td>\n",
       "      <td>NaN</td>\n",
       "      <td>NaN</td>\n",
       "    </tr>\n",
       "  </tbody>\n",
       "</table>\n",
       "<p>1 rows × 41 columns</p>\n",
       "</div>"
      ],
      "text/plain": [
       "                 name      amount state           address      city  \\\n",
       "19427  ADAISYER NORTH  10000000.0    GA  5150 Thompson Rd  Fairburn   \n",
       "\n",
       "              zip naics_code        business_type  jobs_retained  \\\n",
       "19427  30213-7700     446120  Sole Proprietorship            495   \n",
       "\n",
       "      date_approved  ... project_county_name project_state  project_zip  \\\n",
       "19427    2021-04-10  ...              FULTON            GA   30213-7700   \n",
       "\n",
       "      originating_lender_city originating_lender_state loan_status_date  \\\n",
       "19427            LAKE SUCCESS                       NY       2021-04-10   \n",
       "\n",
       "       originating_lender_location_id  lmi_indicator  forgiveness_amount  \\\n",
       "19427                          317954              N                 NaN   \n",
       "\n",
       "       forgiveness_date  \n",
       "19427               NaN  \n",
       "\n",
       "[1 rows x 41 columns]"
      ]
     },
     "execution_count": 15,
     "metadata": {},
     "output_type": "execute_result"
    }
   ],
   "source": [
    "#high = dup[\"amount\"].mean()+3*dup[\"amount\"].std()\n",
    "extreme = dup[dup.amount>= max(dup.amount)]\n",
    "new_dup = dup[dup.amount < max(dup.amount)]\n",
    "extreme"
   ]
  },
  {
   "cell_type": "code",
   "execution_count": 16,
   "metadata": {
    "colab": {
     "base_uri": "https://localhost:8080/",
     "height": 459
    },
    "id": "yNV2hlsF5_af",
    "outputId": "3ac26284-d7cb-46f1-d8c0-a457f2be17be"
   },
   "outputs": [
    {
     "data": {
      "text/plain": [
       "<seaborn.axisgrid.JointGrid at 0x2549cbff730>"
      ]
     },
     "execution_count": 16,
     "metadata": {},
     "output_type": "execute_result"
    },
    {
     "data": {
      "image/png": "[encoded data removed]",
      "text/plain": [
       "<Figure size 432x432 with 3 Axes>"
      ]
     },
     "metadata": {
      "needs_background": "light"
     },
     "output_type": "display_data"
    }
   ],
   "source": [
    "sns.jointplot(x = \"date_approved\", y= \"amount\",data = new_dup, kind = \"scatter\" )"
   ]
  },
  {
   "cell_type": "code",
   "execution_count": 17,
   "metadata": {
    "colab": {
     "base_uri": "https://localhost:8080/",
     "height": 520
    },
    "id": "Tvq5D-DK-G4e",
    "outputId": "ba4f83a8-400e-444f-88ac-62c43e6b5314"
   },
   "outputs": [
    {
     "data": {
      "text/html": [
       "<div>\n",
       "<style scoped>\n",
       "    .dataframe tbody tr th:only-of-type {\n",
       "        vertical-align: middle;\n",
       "    }\n",
       "\n",
       "    .dataframe tbody tr th {\n",
       "        vertical-align: top;\n",
       "    }\n",
       "\n",
       "    .dataframe thead th {\n",
       "        text-align: right;\n",
       "    }\n",
       "</style>\n",
       "<table border=\"1\" class=\"dataframe\">\n",
       "  <thead>\n",
       "    <tr style=\"text-align: right;\">\n",
       "      <th></th>\n",
       "      <th>naics_code</th>\n",
       "      <th>amount</th>\n",
       "      <th>% cases</th>\n",
       "    </tr>\n",
       "  </thead>\n",
       "  <tbody>\n",
       "    <tr>\n",
       "      <th>658</th>\n",
       "      <td>812112</td>\n",
       "      <td>3249</td>\n",
       "      <td>27.795363</td>\n",
       "    </tr>\n",
       "    <tr>\n",
       "      <th>657</th>\n",
       "      <td>812111</td>\n",
       "      <td>1132</td>\n",
       "      <td>9.684319</td>\n",
       "    </tr>\n",
       "    <tr>\n",
       "      <th>374</th>\n",
       "      <td>485310</td>\n",
       "      <td>875</td>\n",
       "      <td>7.485670</td>\n",
       "    </tr>\n",
       "    <tr>\n",
       "      <th>548</th>\n",
       "      <td>561720</td>\n",
       "      <td>763</td>\n",
       "      <td>6.527504</td>\n",
       "    </tr>\n",
       "    <tr>\n",
       "      <th>549</th>\n",
       "      <td>561730</td>\n",
       "      <td>745</td>\n",
       "      <td>6.373514</td>\n",
       "    </tr>\n",
       "    <tr>\n",
       "      <th>669</th>\n",
       "      <td>812990</td>\n",
       "      <td>696</td>\n",
       "      <td>5.954316</td>\n",
       "    </tr>\n",
       "    <tr>\n",
       "      <th>631</th>\n",
       "      <td>722320</td>\n",
       "      <td>615</td>\n",
       "      <td>5.261357</td>\n",
       "    </tr>\n",
       "    <tr>\n",
       "      <th>55</th>\n",
       "      <td>236118</td>\n",
       "      <td>600</td>\n",
       "      <td>5.133031</td>\n",
       "    </tr>\n",
       "    <tr>\n",
       "      <th>354</th>\n",
       "      <td>453998</td>\n",
       "      <td>556</td>\n",
       "      <td>4.756609</td>\n",
       "    </tr>\n",
       "    <tr>\n",
       "      <th>618</th>\n",
       "      <td>711510</td>\n",
       "      <td>512</td>\n",
       "      <td>4.380187</td>\n",
       "    </tr>\n",
       "    <tr>\n",
       "      <th>661</th>\n",
       "      <td>812199</td>\n",
       "      <td>470</td>\n",
       "      <td>4.020874</td>\n",
       "    </tr>\n",
       "    <tr>\n",
       "      <th>659</th>\n",
       "      <td>812113</td>\n",
       "      <td>382</td>\n",
       "      <td>3.268030</td>\n",
       "    </tr>\n",
       "    <tr>\n",
       "      <th>502</th>\n",
       "      <td>541613</td>\n",
       "      <td>378</td>\n",
       "      <td>3.233810</td>\n",
       "    </tr>\n",
       "    <tr>\n",
       "      <th>365</th>\n",
       "      <td>484110</td>\n",
       "      <td>359</td>\n",
       "      <td>3.071264</td>\n",
       "    </tr>\n",
       "    <tr>\n",
       "      <th>325</th>\n",
       "      <td>446120</td>\n",
       "      <td>357</td>\n",
       "      <td>3.054153</td>\n",
       "    </tr>\n",
       "  </tbody>\n",
       "</table>\n",
       "</div>"
      ],
      "text/plain": [
       "    naics_code  amount    % cases\n",
       "658     812112    3249  27.795363\n",
       "657     812111    1132   9.684319\n",
       "374     485310     875   7.485670\n",
       "548     561720     763   6.527504\n",
       "549     561730     745   6.373514\n",
       "669     812990     696   5.954316\n",
       "631     722320     615   5.261357\n",
       "55      236118     600   5.133031\n",
       "354     453998     556   4.756609\n",
       "618     711510     512   4.380187\n",
       "661     812199     470   4.020874\n",
       "659     812113     382   3.268030\n",
       "502     541613     378   3.233810\n",
       "365     484110     359   3.071264\n",
       "325     446120     357   3.054153"
      ]
     },
     "execution_count": 17,
     "metadata": {},
     "output_type": "execute_result"
    }
   ],
   "source": [
    "naics_grp = new_dup.groupby([\"naics_code\"],as_index=False).count()\n",
    "naics_grp = naics_grp.sort_values(by=\"lender\",ascending=False).head(15)\n",
    "naics_grp = naics_grp[[\"naics_code\",\"amount\"]]\n",
    "naics_grp[\"% cases\"] = (naics_grp.amount/naics_grp.amount.sum())*100\n",
    "naics_grp.head(20)"
   ]
  },
  {
   "cell_type": "code",
   "execution_count": 18,
   "metadata": {
    "colab": {
     "base_uri": "https://localhost:8080/",
     "height": 293
    },
    "id": "YL8BQebWFZtQ",
    "outputId": "6994adfe-6ae3-45b3-acc5-9b1d3b1798ba"
   },
   "outputs": [
    {
     "data": {
      "text/plain": [
       "<AxesSubplot:>"
      ]
     },
     "execution_count": 18,
     "metadata": {},
     "output_type": "execute_result"
    },
    {
     "data": {
      "image/png": "[encoded data removed]",
      "text/plain": [
       "<Figure size 432x288 with 1 Axes>"
      ]
     },
     "metadata": {
      "needs_background": "light"
     },
     "output_type": "display_data"
    }
   ],
   "source": [
    "new_dup[[\"naics_code\",\"amount\"]].plot()"
   ]
  },
  {
   "cell_type": "code",
   "execution_count": 19,
   "metadata": {
    "colab": {
     "base_uri": "https://localhost:8080/",
     "height": 444
    },
    "id": "VHTnsZRwdp8E",
    "outputId": "d6e67c3c-d5fa-484e-a32d-e44b1e229a6e"
   },
   "outputs": [
    {
     "data": {
      "text/html": [
       "<div>\n",
       "<style scoped>\n",
       "    .dataframe tbody tr th:only-of-type {\n",
       "        vertical-align: middle;\n",
       "    }\n",
       "\n",
       "    .dataframe tbody tr th {\n",
       "        vertical-align: top;\n",
       "    }\n",
       "\n",
       "    .dataframe thead th {\n",
       "        text-align: right;\n",
       "    }\n",
       "</style>\n",
       "<table border=\"1\" class=\"dataframe\">\n",
       "  <thead>\n",
       "    <tr style=\"text-align: right;\">\n",
       "      <th></th>\n",
       "      <th>name</th>\n",
       "      <th>amount</th>\n",
       "      <th>state</th>\n",
       "      <th>address</th>\n",
       "      <th>city</th>\n",
       "      <th>zip</th>\n",
       "      <th>naics_code</th>\n",
       "      <th>business_type</th>\n",
       "      <th>jobs_retained</th>\n",
       "      <th>date_approved</th>\n",
       "      <th>...</th>\n",
       "      <th>project_county_name</th>\n",
       "      <th>project_state</th>\n",
       "      <th>project_zip</th>\n",
       "      <th>originating_lender_city</th>\n",
       "      <th>originating_lender_state</th>\n",
       "      <th>loan_status_date</th>\n",
       "      <th>originating_lender_location_id</th>\n",
       "      <th>lmi_indicator</th>\n",
       "      <th>forgiveness_amount</th>\n",
       "      <th>forgiveness_date</th>\n",
       "    </tr>\n",
       "  </thead>\n",
       "  <tbody>\n",
       "    <tr>\n",
       "      <th>0</th>\n",
       "      <td>LUMMUS CORPORATION</td>\n",
       "      <td>2000000.0</td>\n",
       "      <td>GA</td>\n",
       "      <td>225 Bourne Blvd</td>\n",
       "      <td>Savannah</td>\n",
       "      <td>31408-9586</td>\n",
       "      <td>333249.0</td>\n",
       "      <td>Corporation</td>\n",
       "      <td>294</td>\n",
       "      <td>2021-02-20</td>\n",
       "      <td>...</td>\n",
       "      <td>CHATHAM</td>\n",
       "      <td>GA</td>\n",
       "      <td>31408-9586</td>\n",
       "      <td>CHICAGO</td>\n",
       "      <td>IL</td>\n",
       "      <td>NaN</td>\n",
       "      <td>116998</td>\n",
       "      <td>N</td>\n",
       "      <td>NaN</td>\n",
       "      <td>NaN</td>\n",
       "    </tr>\n",
       "    <tr>\n",
       "      <th>1</th>\n",
       "      <td>COLIANT SOLUTIONS INC.</td>\n",
       "      <td>1294555.0</td>\n",
       "      <td>GA</td>\n",
       "      <td>2703 Brickton North Dr</td>\n",
       "      <td>Buford</td>\n",
       "      <td>30518-9101</td>\n",
       "      <td>541519.0</td>\n",
       "      <td>Corporation</td>\n",
       "      <td>63</td>\n",
       "      <td>2021-01-31</td>\n",
       "      <td>...</td>\n",
       "      <td>GWINNETT</td>\n",
       "      <td>GA</td>\n",
       "      <td>30518-9101</td>\n",
       "      <td>COLUMBUS</td>\n",
       "      <td>GA</td>\n",
       "      <td>NaN</td>\n",
       "      <td>19248</td>\n",
       "      <td>Y</td>\n",
       "      <td>NaN</td>\n",
       "      <td>NaN</td>\n",
       "    </tr>\n",
       "    <tr>\n",
       "      <th>2</th>\n",
       "      <td>YOHE PLUMBING INC</td>\n",
       "      <td>729509.0</td>\n",
       "      <td>GA</td>\n",
       "      <td>1120 Franke Court N/A</td>\n",
       "      <td>Augusta</td>\n",
       "      <td>30909</td>\n",
       "      <td>238220.0</td>\n",
       "      <td>Corporation</td>\n",
       "      <td>105</td>\n",
       "      <td>2021-03-12</td>\n",
       "      <td>...</td>\n",
       "      <td>RICHMOND</td>\n",
       "      <td>GA</td>\n",
       "      <td>30909</td>\n",
       "      <td>PHOENIXVILLE</td>\n",
       "      <td>PA</td>\n",
       "      <td>NaN</td>\n",
       "      <td>121536</td>\n",
       "      <td>N</td>\n",
       "      <td>NaN</td>\n",
       "      <td>NaN</td>\n",
       "    </tr>\n",
       "    <tr>\n",
       "      <th>3</th>\n",
       "      <td>LEWIS COLOR LITHOGRAPHERS INC</td>\n",
       "      <td>571193.4</td>\n",
       "      <td>GA</td>\n",
       "      <td>30 Joe Kennedy Blvd</td>\n",
       "      <td>Statesboro</td>\n",
       "      <td>30458-3417</td>\n",
       "      <td>323111.0</td>\n",
       "      <td>Corporation</td>\n",
       "      <td>49</td>\n",
       "      <td>2021-02-02</td>\n",
       "      <td>...</td>\n",
       "      <td>BULLOCH</td>\n",
       "      <td>GA</td>\n",
       "      <td>30458-3417</td>\n",
       "      <td>COLUMBUS</td>\n",
       "      <td>GA</td>\n",
       "      <td>NaN</td>\n",
       "      <td>19248</td>\n",
       "      <td>N</td>\n",
       "      <td>NaN</td>\n",
       "      <td>NaN</td>\n",
       "    </tr>\n",
       "    <tr>\n",
       "      <th>4</th>\n",
       "      <td>ALMA PAK INTERNATIONAL, LLC</td>\n",
       "      <td>472700.0</td>\n",
       "      <td>GA</td>\n",
       "      <td>230 PINEVIEW RD</td>\n",
       "      <td>ALMA</td>\n",
       "      <td>31510-4326</td>\n",
       "      <td>445230.0</td>\n",
       "      <td>Partnership</td>\n",
       "      <td>37</td>\n",
       "      <td>2020-04-10</td>\n",
       "      <td>...</td>\n",
       "      <td>BACON</td>\n",
       "      <td>GA</td>\n",
       "      <td>31510-4326</td>\n",
       "      <td>ALMA</td>\n",
       "      <td>GA</td>\n",
       "      <td>2021-01-08</td>\n",
       "      <td>17811</td>\n",
       "      <td>N</td>\n",
       "      <td>475877.59</td>\n",
       "      <td>2020-12-15</td>\n",
       "    </tr>\n",
       "  </tbody>\n",
       "</table>\n",
       "<p>5 rows × 41 columns</p>\n",
       "</div>"
      ],
      "text/plain": [
       "                            name     amount state                 address  \\\n",
       "0             LUMMUS CORPORATION  2000000.0    GA         225 Bourne Blvd   \n",
       "1         COLIANT SOLUTIONS INC.  1294555.0    GA  2703 Brickton North Dr   \n",
       "2              YOHE PLUMBING INC   729509.0    GA   1120 Franke Court N/A   \n",
       "3  LEWIS COLOR LITHOGRAPHERS INC   571193.4    GA     30 Joe Kennedy Blvd   \n",
       "4    ALMA PAK INTERNATIONAL, LLC   472700.0    GA         230 PINEVIEW RD   \n",
       "\n",
       "         city         zip  naics_code business_type  jobs_retained  \\\n",
       "0    Savannah  31408-9586    333249.0   Corporation            294   \n",
       "1      Buford  30518-9101    541519.0   Corporation             63   \n",
       "2     Augusta       30909    238220.0   Corporation            105   \n",
       "3  Statesboro  30458-3417    323111.0   Corporation             49   \n",
       "4        ALMA  31510-4326    445230.0   Partnership             37   \n",
       "\n",
       "  date_approved  ... project_county_name project_state  project_zip  \\\n",
       "0    2021-02-20  ...             CHATHAM            GA   31408-9586   \n",
       "1    2021-01-31  ...            GWINNETT            GA   30518-9101   \n",
       "2    2021-03-12  ...            RICHMOND            GA        30909   \n",
       "3    2021-02-02  ...             BULLOCH            GA   30458-3417   \n",
       "4    2020-04-10  ...               BACON            GA   31510-4326   \n",
       "\n",
       "   originating_lender_city originating_lender_state loan_status_date  \\\n",
       "0                  CHICAGO                       IL              NaN   \n",
       "1                 COLUMBUS                       GA              NaN   \n",
       "2             PHOENIXVILLE                       PA              NaN   \n",
       "3                 COLUMBUS                       GA              NaN   \n",
       "4                     ALMA                       GA       2021-01-08   \n",
       "\n",
       "   originating_lender_location_id  lmi_indicator  forgiveness_amount  \\\n",
       "0                          116998              N                 NaN   \n",
       "1                           19248              Y                 NaN   \n",
       "2                          121536              N                 NaN   \n",
       "3                           19248              N                 NaN   \n",
       "4                           17811              N           475877.59   \n",
       "\n",
       "   forgiveness_date  \n",
       "0               NaN  \n",
       "1               NaN  \n",
       "2               NaN  \n",
       "3               NaN  \n",
       "4        2020-12-15  \n",
       "\n",
       "[5 rows x 41 columns]"
      ]
     },
     "execution_count": 19,
     "metadata": {},
     "output_type": "execute_result"
    }
   ],
   "source": [
    "all_data = pd.read_csv(\"D:/case competitions/Info Challenge/Data_PPP/ppp_applicants_ga_full.csv\")\n",
    "all_data.head()"
   ]
  },
  {
   "cell_type": "code",
   "execution_count": 20,
   "metadata": {
    "id": "_Mawy4TZbu1I"
   },
   "outputs": [],
   "source": [
    "all_data1 = all_data\n",
    "all_data1[\"removed\"] = \"No\"\n",
    "\n",
    "removed1 = removed\n",
    "removed1[\"removed\"] = \"Yes\""
   ]
  },
  {
   "cell_type": "code",
   "execution_count": 21,
   "metadata": {
    "colab": {
     "base_uri": "https://localhost:8080/",
     "height": 921
    },
    "id": "JbKkk5zKQk2M",
    "outputId": "628dbe73-ed02-492b-c70a-d0e3cc18115f"
   },
   "outputs": [
    {
     "data": {
      "text/html": [
       "<div>\n",
       "<style scoped>\n",
       "    .dataframe tbody tr th:only-of-type {\n",
       "        vertical-align: middle;\n",
       "    }\n",
       "\n",
       "    .dataframe tbody tr th {\n",
       "        vertical-align: top;\n",
       "    }\n",
       "\n",
       "    .dataframe thead th {\n",
       "        text-align: right;\n",
       "    }\n",
       "</style>\n",
       "<table border=\"1\" class=\"dataframe\">\n",
       "  <thead>\n",
       "    <tr style=\"text-align: right;\">\n",
       "      <th></th>\n",
       "      <th>name</th>\n",
       "      <th>amount</th>\n",
       "      <th>state</th>\n",
       "      <th>address</th>\n",
       "      <th>city</th>\n",
       "      <th>zip</th>\n",
       "      <th>naics_code</th>\n",
       "      <th>business_type</th>\n",
       "      <th>jobs_retained</th>\n",
       "      <th>date_approved</th>\n",
       "      <th>...</th>\n",
       "      <th>project_state</th>\n",
       "      <th>project_zip</th>\n",
       "      <th>originating_lender_city</th>\n",
       "      <th>originating_lender_state</th>\n",
       "      <th>loan_status_date</th>\n",
       "      <th>originating_lender_location_id</th>\n",
       "      <th>lmi_indicator</th>\n",
       "      <th>forgiveness_amount</th>\n",
       "      <th>forgiveness_date</th>\n",
       "      <th>removed</th>\n",
       "    </tr>\n",
       "  </thead>\n",
       "  <tbody>\n",
       "    <tr>\n",
       "      <th>0</th>\n",
       "      <td>LUMMUS CORPORATION</td>\n",
       "      <td>2000000.0</td>\n",
       "      <td>GA</td>\n",
       "      <td>225 Bourne Blvd</td>\n",
       "      <td>Savannah</td>\n",
       "      <td>31408-9586</td>\n",
       "      <td>333249.0</td>\n",
       "      <td>Corporation</td>\n",
       "      <td>294</td>\n",
       "      <td>2021-02-20</td>\n",
       "      <td>...</td>\n",
       "      <td>GA</td>\n",
       "      <td>31408-9586</td>\n",
       "      <td>CHICAGO</td>\n",
       "      <td>IL</td>\n",
       "      <td>NaN</td>\n",
       "      <td>116998</td>\n",
       "      <td>N</td>\n",
       "      <td>NaN</td>\n",
       "      <td>NaN</td>\n",
       "      <td>No</td>\n",
       "    </tr>\n",
       "    <tr>\n",
       "      <th>1</th>\n",
       "      <td>COLIANT SOLUTIONS INC.</td>\n",
       "      <td>1294555.0</td>\n",
       "      <td>GA</td>\n",
       "      <td>2703 Brickton North Dr</td>\n",
       "      <td>Buford</td>\n",
       "      <td>30518-9101</td>\n",
       "      <td>541519.0</td>\n",
       "      <td>Corporation</td>\n",
       "      <td>63</td>\n",
       "      <td>2021-01-31</td>\n",
       "      <td>...</td>\n",
       "      <td>GA</td>\n",
       "      <td>30518-9101</td>\n",
       "      <td>COLUMBUS</td>\n",
       "      <td>GA</td>\n",
       "      <td>NaN</td>\n",
       "      <td>19248</td>\n",
       "      <td>Y</td>\n",
       "      <td>NaN</td>\n",
       "      <td>NaN</td>\n",
       "      <td>No</td>\n",
       "    </tr>\n",
       "    <tr>\n",
       "      <th>2</th>\n",
       "      <td>YOHE PLUMBING INC</td>\n",
       "      <td>729509.0</td>\n",
       "      <td>GA</td>\n",
       "      <td>1120 Franke Court N/A</td>\n",
       "      <td>Augusta</td>\n",
       "      <td>30909</td>\n",
       "      <td>238220.0</td>\n",
       "      <td>Corporation</td>\n",
       "      <td>105</td>\n",
       "      <td>2021-03-12</td>\n",
       "      <td>...</td>\n",
       "      <td>GA</td>\n",
       "      <td>30909</td>\n",
       "      <td>PHOENIXVILLE</td>\n",
       "      <td>PA</td>\n",
       "      <td>NaN</td>\n",
       "      <td>121536</td>\n",
       "      <td>N</td>\n",
       "      <td>NaN</td>\n",
       "      <td>NaN</td>\n",
       "      <td>No</td>\n",
       "    </tr>\n",
       "    <tr>\n",
       "      <th>3</th>\n",
       "      <td>LEWIS COLOR LITHOGRAPHERS INC</td>\n",
       "      <td>571193.4</td>\n",
       "      <td>GA</td>\n",
       "      <td>30 Joe Kennedy Blvd</td>\n",
       "      <td>Statesboro</td>\n",
       "      <td>30458-3417</td>\n",
       "      <td>323111.0</td>\n",
       "      <td>Corporation</td>\n",
       "      <td>49</td>\n",
       "      <td>2021-02-02</td>\n",
       "      <td>...</td>\n",
       "      <td>GA</td>\n",
       "      <td>30458-3417</td>\n",
       "      <td>COLUMBUS</td>\n",
       "      <td>GA</td>\n",
       "      <td>NaN</td>\n",
       "      <td>19248</td>\n",
       "      <td>N</td>\n",
       "      <td>NaN</td>\n",
       "      <td>NaN</td>\n",
       "      <td>No</td>\n",
       "    </tr>\n",
       "    <tr>\n",
       "      <th>4</th>\n",
       "      <td>ALMA PAK INTERNATIONAL, LLC</td>\n",
       "      <td>472700.0</td>\n",
       "      <td>GA</td>\n",
       "      <td>230 PINEVIEW RD</td>\n",
       "      <td>ALMA</td>\n",
       "      <td>31510-4326</td>\n",
       "      <td>445230.0</td>\n",
       "      <td>Partnership</td>\n",
       "      <td>37</td>\n",
       "      <td>2020-04-10</td>\n",
       "      <td>...</td>\n",
       "      <td>GA</td>\n",
       "      <td>31510-4326</td>\n",
       "      <td>ALMA</td>\n",
       "      <td>GA</td>\n",
       "      <td>2021-01-08</td>\n",
       "      <td>17811</td>\n",
       "      <td>N</td>\n",
       "      <td>475877.59</td>\n",
       "      <td>2020-12-15</td>\n",
       "      <td>No</td>\n",
       "    </tr>\n",
       "    <tr>\n",
       "      <th>...</th>\n",
       "      <td>...</td>\n",
       "      <td>...</td>\n",
       "      <td>...</td>\n",
       "      <td>...</td>\n",
       "      <td>...</td>\n",
       "      <td>...</td>\n",
       "      <td>...</td>\n",
       "      <td>...</td>\n",
       "      <td>...</td>\n",
       "      <td>...</td>\n",
       "      <td>...</td>\n",
       "      <td>...</td>\n",
       "      <td>...</td>\n",
       "      <td>...</td>\n",
       "      <td>...</td>\n",
       "      <td>...</td>\n",
       "      <td>...</td>\n",
       "      <td>...</td>\n",
       "      <td>...</td>\n",
       "      <td>...</td>\n",
       "      <td>...</td>\n",
       "    </tr>\n",
       "    <tr>\n",
       "      <th>579659</th>\n",
       "      <td>DONNELL WILSON</td>\n",
       "      <td>1950.0</td>\n",
       "      <td>GA</td>\n",
       "      <td>1000 Paces Ln</td>\n",
       "      <td>Woodstock</td>\n",
       "      <td>30189-4829</td>\n",
       "      <td>621511</td>\n",
       "      <td>Sole Proprietorship</td>\n",
       "      <td>1</td>\n",
       "      <td>2021-04-01 00:00:00</td>\n",
       "      <td>...</td>\n",
       "      <td>GA</td>\n",
       "      <td>30189-4829</td>\n",
       "      <td>Laguna Hills</td>\n",
       "      <td>CA</td>\n",
       "      <td>2021-04-01 00:00:00</td>\n",
       "      <td>509316</td>\n",
       "      <td>N</td>\n",
       "      <td>NaN</td>\n",
       "      <td>NaN</td>\n",
       "      <td>Yes</td>\n",
       "    </tr>\n",
       "    <tr>\n",
       "      <th>579660</th>\n",
       "      <td>MAMADOU DIOULDE DIALLO</td>\n",
       "      <td>1849.0</td>\n",
       "      <td>GA</td>\n",
       "      <td>7000 Roswell Rd Apt 252</td>\n",
       "      <td>Atlanta</td>\n",
       "      <td>30328-2389</td>\n",
       "      <td>485310</td>\n",
       "      <td>Independent Contractors</td>\n",
       "      <td>1</td>\n",
       "      <td>2021-05-21 00:00:00</td>\n",
       "      <td>...</td>\n",
       "      <td>GA</td>\n",
       "      <td>30328-2389</td>\n",
       "      <td>Bedford</td>\n",
       "      <td>TX</td>\n",
       "      <td>2021-05-21 00:00:00</td>\n",
       "      <td>529472</td>\n",
       "      <td>N</td>\n",
       "      <td>NaN</td>\n",
       "      <td>NaN</td>\n",
       "      <td>Yes</td>\n",
       "    </tr>\n",
       "    <tr>\n",
       "      <th>579661</th>\n",
       "      <td>ANTHONY HARRIS</td>\n",
       "      <td>1245.0</td>\n",
       "      <td>GA</td>\n",
       "      <td>2849 Blount St</td>\n",
       "      <td>Atlanta</td>\n",
       "      <td>30344-3732</td>\n",
       "      <td>485310</td>\n",
       "      <td>Independent Contractors</td>\n",
       "      <td>1</td>\n",
       "      <td>2021-04-08 00:00:00</td>\n",
       "      <td>...</td>\n",
       "      <td>GA</td>\n",
       "      <td>30344-3732</td>\n",
       "      <td>Bedford</td>\n",
       "      <td>TX</td>\n",
       "      <td>2021-04-08 00:00:00</td>\n",
       "      <td>529472</td>\n",
       "      <td>Y</td>\n",
       "      <td>NaN</td>\n",
       "      <td>NaN</td>\n",
       "      <td>Yes</td>\n",
       "    </tr>\n",
       "    <tr>\n",
       "      <th>579662</th>\n",
       "      <td>TAAHIRA ROBINSON</td>\n",
       "      <td>1075.0</td>\n",
       "      <td>GA</td>\n",
       "      <td>8541 Glendevon Ct</td>\n",
       "      <td>Riverdale</td>\n",
       "      <td>30274-4573</td>\n",
       "      <td>561110</td>\n",
       "      <td>Limited  Liability Company(LLC)</td>\n",
       "      <td>1</td>\n",
       "      <td>2021-05-11 00:00:00</td>\n",
       "      <td>...</td>\n",
       "      <td>GA</td>\n",
       "      <td>30274-4573</td>\n",
       "      <td>Miami</td>\n",
       "      <td>FL</td>\n",
       "      <td>2021-05-11 00:00:00</td>\n",
       "      <td>529192</td>\n",
       "      <td>Y</td>\n",
       "      <td>NaN</td>\n",
       "      <td>NaN</td>\n",
       "      <td>Yes</td>\n",
       "    </tr>\n",
       "    <tr>\n",
       "      <th>579663</th>\n",
       "      <td>ERICA FERNANDEZ</td>\n",
       "      <td>787.0</td>\n",
       "      <td>GA</td>\n",
       "      <td>406 Nova Cir</td>\n",
       "      <td>Stockbridge</td>\n",
       "      <td>30281-3750</td>\n",
       "      <td>561720</td>\n",
       "      <td>Independent Contractors</td>\n",
       "      <td>1</td>\n",
       "      <td>2021-05-23 00:00:00</td>\n",
       "      <td>...</td>\n",
       "      <td>GA</td>\n",
       "      <td>30281-3750</td>\n",
       "      <td>Bedford</td>\n",
       "      <td>TX</td>\n",
       "      <td>2021-05-23 00:00:00</td>\n",
       "      <td>529472</td>\n",
       "      <td>Y</td>\n",
       "      <td>NaN</td>\n",
       "      <td>NaN</td>\n",
       "      <td>Yes</td>\n",
       "    </tr>\n",
       "  </tbody>\n",
       "</table>\n",
       "<p>579664 rows × 42 columns</p>\n",
       "</div>"
      ],
      "text/plain": [
       "                                 name     amount state  \\\n",
       "0                  LUMMUS CORPORATION  2000000.0    GA   \n",
       "1              COLIANT SOLUTIONS INC.  1294555.0    GA   \n",
       "2                   YOHE PLUMBING INC   729509.0    GA   \n",
       "3       LEWIS COLOR LITHOGRAPHERS INC   571193.4    GA   \n",
       "4         ALMA PAK INTERNATIONAL, LLC   472700.0    GA   \n",
       "...                               ...        ...   ...   \n",
       "579659                 DONNELL WILSON     1950.0    GA   \n",
       "579660         MAMADOU DIOULDE DIALLO     1849.0    GA   \n",
       "579661                 ANTHONY HARRIS     1245.0    GA   \n",
       "579662               TAAHIRA ROBINSON     1075.0    GA   \n",
       "579663                ERICA FERNANDEZ      787.0    GA   \n",
       "\n",
       "                        address         city         zip naics_code  \\\n",
       "0               225 Bourne Blvd     Savannah  31408-9586   333249.0   \n",
       "1        2703 Brickton North Dr       Buford  30518-9101   541519.0   \n",
       "2         1120 Franke Court N/A      Augusta       30909   238220.0   \n",
       "3           30 Joe Kennedy Blvd   Statesboro  30458-3417   323111.0   \n",
       "4               230 PINEVIEW RD         ALMA  31510-4326   445230.0   \n",
       "...                         ...          ...         ...        ...   \n",
       "579659            1000 Paces Ln    Woodstock  30189-4829     621511   \n",
       "579660  7000 Roswell Rd Apt 252      Atlanta  30328-2389     485310   \n",
       "579661           2849 Blount St      Atlanta  30344-3732     485310   \n",
       "579662        8541 Glendevon Ct    Riverdale  30274-4573     561110   \n",
       "579663             406 Nova Cir  Stockbridge  30281-3750     561720   \n",
       "\n",
       "                          business_type  jobs_retained        date_approved  \\\n",
       "0                           Corporation            294           2021-02-20   \n",
       "1                           Corporation             63           2021-01-31   \n",
       "2                           Corporation            105           2021-03-12   \n",
       "3                           Corporation             49           2021-02-02   \n",
       "4                           Partnership             37           2020-04-10   \n",
       "...                                 ...            ...                  ...   \n",
       "579659              Sole Proprietorship              1  2021-04-01 00:00:00   \n",
       "579660          Independent Contractors              1  2021-05-21 00:00:00   \n",
       "579661          Independent Contractors              1  2021-04-08 00:00:00   \n",
       "579662  Limited  Liability Company(LLC)              1  2021-05-11 00:00:00   \n",
       "579663          Independent Contractors              1  2021-05-23 00:00:00   \n",
       "\n",
       "        ... project_state project_zip  originating_lender_city  \\\n",
       "0       ...            GA  31408-9586                  CHICAGO   \n",
       "1       ...            GA  30518-9101                 COLUMBUS   \n",
       "2       ...            GA       30909             PHOENIXVILLE   \n",
       "3       ...            GA  30458-3417                 COLUMBUS   \n",
       "4       ...            GA  31510-4326                     ALMA   \n",
       "...     ...           ...         ...                      ...   \n",
       "579659  ...            GA  30189-4829             Laguna Hills   \n",
       "579660  ...            GA  30328-2389                  Bedford   \n",
       "579661  ...            GA  30344-3732                  Bedford   \n",
       "579662  ...            GA  30274-4573                    Miami   \n",
       "579663  ...            GA  30281-3750                  Bedford   \n",
       "\n",
       "       originating_lender_state     loan_status_date  \\\n",
       "0                            IL                  NaN   \n",
       "1                            GA                  NaN   \n",
       "2                            PA                  NaN   \n",
       "3                            GA                  NaN   \n",
       "4                            GA           2021-01-08   \n",
       "...                         ...                  ...   \n",
       "579659                       CA  2021-04-01 00:00:00   \n",
       "579660                       TX  2021-05-21 00:00:00   \n",
       "579661                       TX  2021-04-08 00:00:00   \n",
       "579662                       FL  2021-05-11 00:00:00   \n",
       "579663                       TX  2021-05-23 00:00:00   \n",
       "\n",
       "       originating_lender_location_id  lmi_indicator  forgiveness_amount  \\\n",
       "0                              116998              N                 NaN   \n",
       "1                               19248              Y                 NaN   \n",
       "2                              121536              N                 NaN   \n",
       "3                               19248              N                 NaN   \n",
       "4                               17811              N           475877.59   \n",
       "...                               ...            ...                 ...   \n",
       "579659                         509316              N                 NaN   \n",
       "579660                         529472              N                 NaN   \n",
       "579661                         529472              Y                 NaN   \n",
       "579662                         529192              Y                 NaN   \n",
       "579663                         529472              Y                 NaN   \n",
       "\n",
       "        forgiveness_date  removed  \n",
       "0                    NaN       No  \n",
       "1                    NaN       No  \n",
       "2                    NaN       No  \n",
       "3                    NaN       No  \n",
       "4             2020-12-15       No  \n",
       "...                  ...      ...  \n",
       "579659               NaN      Yes  \n",
       "579660               NaN      Yes  \n",
       "579661               NaN      Yes  \n",
       "579662               NaN      Yes  \n",
       "579663               NaN      Yes  \n",
       "\n",
       "[579664 rows x 42 columns]"
      ]
     },
     "execution_count": 21,
     "metadata": {},
     "output_type": "execute_result"
    }
   ],
   "source": [
    "main = all_data1.append(removed1, ignore_index=True)\n",
    "main"
   ]
  },
  {
   "cell_type": "code",
   "execution_count": 22,
   "metadata": {
    "id": "ZS3J-ruDQ6Pv"
   },
   "outputs": [],
   "source": [
    "#main_model = main[[\"amount\",\"city\",\"naics_code\",\"business_type\",\"jobs_retained\",\"lender\",\"congressional_district\",\"processing_method\",\"loan_status\",\"term\",\"rural_urban_indicator\",\"hubzone_indicator\",\"business_age_description\",\"lmi_indicator\"]]"
   ]
  },
  {
   "cell_type": "code",
   "execution_count": 23,
   "metadata": {
    "id": "3CVtZE5ZUWiL"
   },
   "outputs": [],
   "source": [
    "main.naics_code = main.naics_code.apply(str)"
   ]
  },
  {
   "cell_type": "code",
   "execution_count": 24,
   "metadata": {
    "id": "Jo4nfG9cdXrq"
   },
   "outputs": [],
   "source": [
    "main.naics_code = main.naics_code.apply(str)\n",
    "main.sba_office_code = main.sba_office_code.apply(str)\n",
    "main.term = main.term.apply(str)"
   ]
  },
  {
   "cell_type": "code",
   "execution_count": 25,
   "metadata": {
    "colab": {
     "base_uri": "https://localhost:8080/"
    },
    "id": "_pXuQvRPdsAy",
    "outputId": "16e93f56-5408-4e95-ba15-e619419e009b"
   },
   "outputs": [
    {
     "data": {
      "text/plain": [
       "Index(['lender_1st Choice CU', 'lender_1st Colonial Community Bank',\n",
       "       'lender_1st Constitution Bank', 'lender_1st Financial Bank USA',\n",
       "       'lender_1st Source Bank', 'lender_1st State Bank',\n",
       "       'lender_22nd State Bank', 'lender_5Star Bank', 'lender_A10Capital, LLC',\n",
       "       'lender_AB&T',\n",
       "       ...\n",
       "       'lender_Zions Bank, A Division of', 'lender_b1BANK',\n",
       "       'lender_iTHINK Financial CU', 'lender_immito, LLC',\n",
       "       'processing_method_PPS', 'loan_status_Exemption 4',\n",
       "       'loan_status_Paid in Full', 'rural_urban_indicator_U',\n",
       "       'hubzone_indicator_Y', 'lmi_indicator_Y'],\n",
       "      dtype='object', length=1201)"
      ]
     },
     "execution_count": 25,
     "metadata": {},
     "output_type": "execute_result"
    }
   ],
   "source": [
    "target = main.removed\n",
    "target = np.where(target == \"Yes\",1,0)\n",
    "main_model = main[[\"amount\",\"jobs_retained\",\"lender\",\"processing_method\",\"loan_status\",\"rural_urban_indicator\",\"hubzone_indicator\",\"lmi_indicator\"]]\n",
    "cat_df = main_model.select_dtypes(exclude=[\"number\"])\n",
    "dummies = pd.get_dummies(cat_df,drop_first=True)\n",
    "dummies.columns"
   ]
  },
  {
   "cell_type": "code",
   "execution_count": 26,
   "metadata": {
    "id": "dM4cBM82i0F1"
   },
   "outputs": [],
   "source": [
    "main_model = main_model.drop(cat_df.columns,axis = 1)\n",
    "main_model = pd.concat([main_model,dummies],axis=1)"
   ]
  },
  {
   "cell_type": "code",
   "execution_count": 27,
   "metadata": {
    "colab": {
     "base_uri": "https://localhost:8080/"
    },
    "id": "xjt2YrDsj6YE",
    "outputId": "29c707fa-fb59-45eb-ca4e-c19c84f3e0e5"
   },
   "outputs": [
    {
     "name": "stdout",
     "output_type": "stream",
     "text": [
      "After:\n",
      "Training Data = (405764, 1203)\n",
      "Validation Data = (173900, 1203)\n",
      "Training Target = (405764,)\n",
      "Validation Target = (173900,)\n"
     ]
    }
   ],
   "source": [
    "from sklearn.model_selection import train_test_split\n",
    "# split the data and target into training and validation sets\n",
    "data_train, data_valid, target_train, target_valid = train_test_split(main_model, target, test_size=0.3, random_state=0)\n",
    "# verify sizes\n",
    "print(\"After:\\nTraining Data = %s\\nValidation Data = %s\" % (data_train.shape, data_valid.shape))\n",
    "print(\"Training Target = %s\\nValidation Target = %s\" % (target_train.shape, target_valid.shape))"
   ]
  },
  {
   "cell_type": "markdown",
   "metadata": {
    "id": "yycUn7-Fl9fc"
   },
   "source": [
    "from sklearn.linear_model import LinearRegression\n",
    "# create mlr model\n",
    "mlr = LinearRegression()\n",
    "# fit the training data\n",
    "model = mlr.fit(data_train, target_train)"
   ]
  },
  {
   "cell_type": "code",
   "execution_count": 28,
   "metadata": {
    "id": "yycUn7-Fl9fc"
   },
   "outputs": [],
   "source": [
    "from sklearn.linear_model import LogisticRegression\n",
    "# create mlr model\n",
    "mlr = LogisticRegression()\n",
    "# fit the training data\n",
    "model = mlr.fit(data_train, target_train)"
   ]
  },
  {
   "cell_type": "code",
   "execution_count": 73,
   "metadata": {
    "id": "gThiknkZF6NE",
    "scrolled": true
   },
   "outputs": [],
   "source": [
    "#generating the prediction values\n",
    "predicted_train = mlr.predict_proba(data_train)\n",
    "predicted_valid = mlr.predict_proba(data_valid)"
   ]
  },
  {
   "cell_type": "code",
   "execution_count": 74,
   "metadata": {
    "id": "VwPW1dFTF7ZQ"
   },
   "outputs": [
    {
     "name": "stdout",
     "output_type": "stream",
     "text": [
      "Variables = ['amount', 'jobs_retained', 'lender_1st Choice CU', 'lender_1st Colonial Community Bank', 'lender_1st Constitution Bank', 'lender_1st Financial Bank USA', 'lender_1st Source Bank', 'lender_1st State Bank', 'lender_22nd State Bank', 'lender_5Star Bank', 'lender_A10Capital, LLC', 'lender_AB&T', 'lender_ACB Bank', 'lender_Abbeville First Bank, SSB', 'lender_Academy Bank, National Association', 'lender_Access Bank', 'lender_Access to Capital for Entrepreneurs', 'lender_Addition Financial CU', 'lender_Affinity Bank', 'lender_Affinity FCU', 'lender_AgGeorgia Farm Credit, ACA', 'lender_AgSouth Farm Credit, ACA', 'lender_Air Force FCU', 'lender_AlaTrust CU', 'lender_All In FCU', 'lender_Allegacy FCU', 'lender_Allegiance Bank', 'lender_Alliance Bank Central Texas', 'lender_Alliant Bank', 'lender_Allied First Bank', 'lender_Ally Bank', 'lender_Alpine Bank', 'lender_Altamaha Bank & Trust Company', 'lender_Altra FCU', 'lender_Alva State Bank & Trust Company', 'lender_Amalgamated Bank', 'lender_Amarillo National Bank', 'lender_Amerant Bank, National Association', 'lender_Amerasia Bank', 'lender_AmeriState Bank', 'lender_America First FCU', \"lender_America's Christian CU\", 'lender_American Bank & Trust Company, Inc.', 'lender_American Bank and Trust Company', 'lender_American Bank, National Association', 'lender_American Commerce Bank, National Association', 'lender_American Equity Bank', 'lender_American Express National Bank', 'lender_American Federal Bank', 'lender_American First National Bank', 'lender_American Lending Center', 'lender_American National Bank', 'lender_American National Bank & Trust', 'lender_American National Bank and Trust Company', 'lender_American National Bank of Minnesota', 'lender_American Pride Bank', 'lender_American Savings Bank, FSB', 'lender_American State Bank', 'lender_Americu CU', 'lender_Ameris Bank', 'lender_Amur Equipment Finance, Inc.', 'lender_Anchor State Bank', 'lender_Anderson Brothers Bank', 'lender_Andover State Bank', 'lender_Andrew Johnson Bank', 'lender_Apex Bank', 'lender_Arbor Bank', 'lender_Arizona FCU', 'lender_Armstrong Bank', 'lender_Arthur State Bank', 'lender_Arvest Bank', 'lender_Ascendus', 'lender_Assemblies of God CU', 'lender_Associated Bank, National Association', 'lender_Atlantic Capital Bank, National Association', 'lender_Atlantic Union Bank', 'lender_Auburn University CU', 'lender_AuburnBank', 'lender_Axiom Bank, National Association', 'lender_Axos Bank', 'lender_BMO Harris Bank National Association', 'lender_BNC National Bank', 'lender_BOC Bank', 'lender_BOKF, National Association', 'lender_BOM Bank', 'lender_BSD Capital, LLC dba Lendistry', 'lender_BTC Bank', 'lender_Banc of California, National Association', 'lender_BancCentral, National Association', 'lender_BancFirst', 'lender_Banesco USA', 'lender_Bank 7', 'lender_Bank First, N.A.', 'lender_Bank Five Nine', 'lender_Bank Forward', 'lender_Bank Hapoalim B.M. - New York Branch', 'lender_Bank Independent', 'lender_Bank Leumi USA', 'lender_Bank OZK', 'lender_Bank of America, National Association', 'lender_Bank of Anguilla', 'lender_Bank of Ann Arbor', 'lender_Bank of Bartlett', 'lender_Bank of Brewton', 'lender_Bank of Brookfield-Purdin, National Association', 'lender_Bank of Camilla', 'lender_Bank of Central Florida', 'lender_Bank of Charles Town', 'lender_Bank of Cleveland', 'lender_Bank of Colorado', 'lender_Bank of Commerce', 'lender_Bank of Dawson', 'lender_Bank of Dudley', 'lender_Bank of Franklin County', 'lender_Bank of George', 'lender_Bank of Greeleyville', 'lender_Bank of Guam', 'lender_Bank of Hancock County', 'lender_Bank of Hays', 'lender_Bank of Hazlehurst', 'lender_Bank of Hope', 'lender_Bank of Houston, National Association', 'lender_Bank of Idaho', 'lender_Bank of Jackson Hole', 'lender_Bank of Labor', 'lender_Bank of Lincoln County', 'lender_Bank of Lumber City', 'lender_Bank of Madison', 'lender_Bank of Monticello', 'lender_Bank of New England', 'lender_Bank of Newington', 'lender_Bank of Oak Ridge', 'lender_Bank of Southern California, National Association', 'lender_Bank of Springfield', 'lender_Bank of Travelers Rest', 'lender_Bank of Whittier, National Association', 'lender_Bank of Wrightsville', 'lender_Bank of Yazoo City', 'lender_Bank of the Flint Hills', 'lender_Bank of the Lowcountry', 'lender_Bank of the Panhandle', 'lender_Bank of the South', 'lender_Bank of the West', 'lender_Bank3', 'lender_BankFirst Financial Services', 'lender_BankPlus', 'lender_BankSouth', 'lender_BankTennessee', 'lender_BankUnited, National Association', 'lender_BankVista', 'lender_Bankers Trust Company', 'lender_Banner Bank', 'lender_Banterra Bank', 'lender_Barrington Bank & Trust Company, National Association', 'lender_Barwick Banking Company', 'lender_Bath Savings Institution', 'lender_Baxter CU', 'lender_BayVanguard Bank', 'lender_Bayer Heritage FCU', 'lender_Beach Bank', 'lender_Beacon Community Bank', 'lender_Bell Bank', 'lender_Beneficial State Bank', 'lender_Benworth Capital', 'lender_Berkshire Bank', 'lender_Black Business Investment Fund Inc.', 'lender_Black River Country Bank', 'lender_Blue Ridge Bank, National Association', 'lender_Bluevine Capital Inc.', 'lender_Bravera Bank', 'lender_Bremer Bank, National Association', 'lender_Brickyard Bank', 'lender_Bridge Community Bank', 'lender_Broadway National Bank', 'lender_Brookline Bank', 'lender_Bryant Bank', 'lender_Burke & Herbert Bank & Trust Company', 'lender_Busey Bank', 'lender_Business Development Corporation of South Carolina', 'lender_Byline Bank', 'lender_CB&S Bank', 'lender_CBBC Bank', 'lender_CBW Bank', 'lender_CDC Small Business Finance Corporation', 'lender_CIBC Bank USA', 'lender_CIBM Bank', 'lender_CNB Bank, Inc.', 'lender_CRF Small Business Loan Company, LLC', 'lender_Cache Valley Bank', 'lender_Cadence Bank', 'lender_Caldwell Bank & Trust Company', 'lender_CapStar Bank', 'lender_Cape Cod Five Cents Savings Bank', 'lender_Capital Area Realtors FCU', 'lender_Capital Bank, National Association', 'lender_Capital City Bank', 'lender_Capital Community Bank', 'lender_Capital One, National Association', 'lender_Capital Plus Financial, LLC', 'lender_Capitol Bank', 'lender_Capitol National Bank', 'lender_Captex Bank', 'lender_Carolina Bank & Trust Co.', 'lender_Carolina Farm Credit, ACA', 'lender_Carolina Foothills FCU', 'lender_Carrollton Bank', 'lender_Carter Bank & Trust', 'lender_Carter FCU', 'lender_Carver State Bank', 'lender_Cass Commercial Bank', 'lender_Cathay Bank', 'lender_Celtic Bank Corporation', 'lender_CenTrust Bank, National Association', 'lender_Centennial Bank', 'lender_Center National Bank', 'lender_Centerstone SBA Lending, Inc.', 'lender_Centier Bank', 'lender_Central Bank', 'lender_Central Bank & Trust Co.', 'lender_Central Minnesota CU', 'lender_Central National Bank', 'lender_Central Pacific Bank', 'lender_Central State Bank', 'lender_Centric Bank', 'lender_Century Bank & Trust', 'lender_Century Bank of Georgia', 'lender_Century First FCU', 'lender_Chain Bridge Bank, National Association', 'lender_Charlevoix State Bank', 'lender_Chesapeake Bank', 'lender_Chickasaw Community Bank', 'lender_Choice Financial Group', 'lender_Citibank, N.A.', 'lender_Citizens & Northern Bank', 'lender_Citizens Bank', 'lender_Citizens Bank & Trust', 'lender_Citizens Bank and Trust', 'lender_Citizens Bank of Americus', 'lender_Citizens Bank of Lafayette', 'lender_Citizens Bank of Las Cruces', 'lender_Citizens Bank of the Midwest', 'lender_Citizens Bank of the South', 'lender_Citizens Bank, National Association', 'lender_Citizens Commerce Bank', 'lender_Citizens Community Bank', 'lender_Citizens Equity First CU', 'lender_Citizens First Bank', 'lender_Citizens National Bank', 'lender_Citizens Tri-County Bank', 'lender_Citizens Trust Bank', 'lender_Citizens and Farmers Bank', 'lender_City & County CU', 'lender_City First Bank, National Association', 'lender_City National Bank', 'lender_City National Bank of Florida', 'lender_Civis Bank', 'lender_Civista Bank', 'lender_Classic City Bank', 'lender_Clear Lake Bank & Trust Company', 'lender_Clear Mountain Bank, Inc.', 'lender_Clearinghouse CDFI PPP', 'lender_CoBank ACB', 'lender_Coastal Carolina National Bank', 'lender_Coastal Community Bank', 'lender_Coastal States Bank', 'lender_Cogent Bank', 'lender_Colony Bank', 'lender_Columbia State Bank', 'lender_Comerica Bank', 'lender_Commerce Bank', 'lender_CommerceOne Bank', 'lender_Commercial Bank', 'lender_Commercial Bank and Trust Company', 'lender_Commercial Bank of California', 'lender_Commercial Banking Company', 'lender_Commercial Savings Bank', 'lender_Commonwealth Business Bank', 'lender_Communities Unlimited, Inc.', 'lender_Community Bank', 'lender_Community Bank & Trust, Waco, Texas', 'lender_Community Bank & Trust-West Georgia', 'lender_Community Bank of Georgia', 'lender_Community Bank of Louisiana', 'lender_Community Bank of Mississippi', 'lender_Community Bank of Pickens County', 'lender_Community Bank of Raymore', 'lender_Community Bank of Wichita, Inc', 'lender_Community Banking Company of Fitzgerald', 'lender_Community Federal Savings Bank', 'lender_Community First Bank', 'lender_Community First Bank of Indiana', 'lender_Community First Bank, Inc.', 'lender_Community First CU', 'lender_Community First CU of Florida', 'lender_Community National Bank', 'lender_Community National Bank & Trust of Texas', 'lender_Community Neighbor Bank', 'lender_Community State Bank', 'lender_Community Trust Bank, Inc.', 'lender_CommunityAmerica CU', 'lender_CommunityBank of Texas, National Association', 'lender_Congressional Bank', 'lender_ConnectOne Bank', 'lender_Connecticut Community Bank, National Association', 'lender_Connection Bank', 'lender_Consumers National Bank', 'lender_Continental Bank', 'lender_Coosa Valley CU', 'lender_CornerStone State Bank', 'lender_Cornerstone Bank', 'lender_Cornerstone Bank, National Association', 'lender_Corning FCU', 'lender_County National Bank', 'lender_Countybank', 'lender_Craft Bank', 'lender_Credit Human FCU', 'lender_Credit Union of Atlanta', 'lender_Credit Union of Georgia', 'lender_Cross River Bank', 'lender_CrossFirst Bank', 'lender_Crossroads Bank', 'lender_Crown Bank', 'lender_Crystal Lake Bank & Trust Company, National Association', 'lender_Cumberland Valley National Bank & Trust Company', 'lender_Customers Bank', 'lender_D. L. Evans Bank', 'lender_DR Bank', 'lender_Day Air CU Inc', 'lender_Decatur County Bank', 'lender_Delta Community CU', 'lender_Denver Savings Bank', 'lender_Deseret First FCU', 'lender_Digital FCU', 'lender_Dime Community Bank', 'lender_Dogwood State Bank', 'lender_Dominion Bank', 'lender_Douglas National Bank', 'lender_DreamSpring', 'lender_Drummond Community Bank', 'lender_Dubuque Bank and Trust Company', 'lender_Dupaco Community CU', 'lender_Durden Banking Co., Inc.', 'lender_ELCA FCU', 'lender_EagleBank', 'lender_East West Bank', 'lender_Eastern Bank', 'lender_Eastman CU', 'lender_Economic and Community Development Institute', 'lender_Educators CU', 'lender_Elements Financial FCU', 'lender_Embassy National Bank', 'lender_Emery FCU', 'lender_Emory Alliance CU', 'lender_Empower FCU', 'lender_Emprise Bank', 'lender_Endeavor Bank', 'lender_Enterprise Bank & Trust', 'lender_Enterprise Bank and Trust Company', 'lender_Enterprise Bank of South Carolina', 'lender_Equity Bank', 'lender_Esquire Bank, National Association', 'lender_Essex Bank', 'lender_Evansville Teachers FCU', 'lender_Everence FCU', 'lender_Evolve Bank & Trust', 'lender_Exchange Bank', 'lender_F & M Bank and Trust Company', 'lender_F&M Bank', 'lender_FC Marketplace, LLC (dba Funding Circle)', 'lender_FMS Bank', 'lender_FNB Oxford Bank', 'lender_FNB Picayune Bank', 'lender_FNB South', 'lender_FNCB Bank', 'lender_FVCbank', 'lender_Fairfax State Savings Bank', 'lender_Fairwinds CU', 'lender_Falcon National Bank', 'lender_Family Bank', 'lender_Farm Bureau Bank, FSB', 'lender_Farm Credit Services of Mid-America ACA', 'lender_Farmers & Merchants Bank', 'lender_Farmers & Merchants Bank of Long Beach', 'lender_Farmers & Stockmens Bank', 'lender_Farmers Bank & Trust Company', 'lender_Farmers Insurance Group FCU', 'lender_Farmers National Bank', 'lender_Farmers State Bank', 'lender_Farmers State Bank & Trust Co', 'lender_Farmers State Bank of Alto Pass, Illinois', 'lender_Farmers Trust & Savings Bank', 'lender_Farmers and Merchants Bank', 'lender_Farmers and Merchants Bank of Ashland', 'lender_Fidelity Bank', 'lender_Fidelity Deposit and Discount Bank', 'lender_Field & Main Bank', 'lender_Fieldpoint Private Bank & Trust', 'lender_Fifth Third Bank', 'lender_FinWise Bank', 'lender_Financial Federal Bank', 'lender_FineMark National Bank & Trust', 'lender_First American Bank', 'lender_First American Bank & Trust', 'lender_First American Bank & Trust Company', 'lender_First Arkansas Bank and Trust', 'lender_First Bank', 'lender_First Bank & Trust Company', 'lender_First Bank and Trust', 'lender_First Bank of Alabama', 'lender_First Bank of Boaz', 'lender_First Bank of Highland Park', 'lender_First Bank of Owasso', 'lender_First Bank of Pike', 'lender_First Bank of the Lake', 'lender_First Business Bank', 'lender_First Capital Bank', 'lender_First Carolina Bank', 'lender_First Century Bank, National Association', 'lender_First Chatham Bank', 'lender_First Citizens Bank', 'lender_First Citrus Bank', 'lender_First Command Bank', 'lender_First Commerce Bank', 'lender_First Commerce CU', 'lender_First Commonwealth Bank', 'lender_First Community Bank', 'lender_First Community Bank of Central Alabama', 'lender_First Community Bank of Tennessee', 'lender_First County Bank', 'lender_First Enterprise Bank', 'lender_First Equity Mortgage Bankers Inc.', 'lender_First Farmers Bank & Trust Co.', 'lender_First Farmers and Merchants Bank', 'lender_First Federal Bank', 'lender_First Federal Bank of Louisiana', 'lender_First Federal Savings & Loan Association of Pascagoula-Moss Point', 'lender_First Fidelity Bank', 'lender_First Financial Bank', 'lender_First Financial Bank, National Association', 'lender_First Florida Integrity Bank', 'lender_First Freedom Bank', 'lender_First Heritage FCU', 'lender_First Home Bank', 'lender_First Horizon Bank', 'lender_First IC Bank', 'lender_First Independence Bank', 'lender_First International Bank & Trust', 'lender_First Internet Bank of Indiana', 'lender_First Interstate Bank', 'lender_First Jackson Bank', 'lender_First Merchants Bank', 'lender_First Metro Bank', 'lender_First Mid Bank & Trust, National Association', 'lender_First Midwest Bank', 'lender_First National Bank', 'lender_First National Bank Northwest Florida', 'lender_First National Bank Texas', 'lender_First National Bank and Trust', 'lender_First National Bank and Trust Company of Ardmore', 'lender_First National Bank and Trust Company of Weatherford d/b/a First Bank Texas', 'lender_First National Bank of Coffee County', 'lender_First National Bank of Decatur County', 'lender_First National Bank of Griffin', 'lender_First National Bank of Louisiana', 'lender_First National Bank of Muscatine', 'lender_First National Bank of Nokomis', 'lender_First National Bank of Omaha', 'lender_First National Bank of Pana', 'lender_First National Bank of Pennsylvania', 'lender_First National Bank of Tennessee', 'lender_First National Community Bank', 'lender_First Northern Bank of Wyoming', 'lender_First Oklahoma Bank', 'lender_First Palmetto Bank', 'lender_First Peoples Bank', 'lender_First Port City Bank', 'lender_First Reliance Bank', 'lender_First Republic Bank', 'lender_First Savings Bank', 'lender_First Secure Bank and Trust Co.', 'lender_First Security Bank', 'lender_First Service Bank', 'lender_First Southern Bank', 'lender_First Southern National Bank', 'lender_First Southern State Bank', 'lender_First Southwest Bank', 'lender_First State Bank', 'lender_First State Bank Shannon-Polo', 'lender_First State Bank of Blakely', 'lender_First State Bank of Bloomington', 'lender_First State Bank of DeKalb County', 'lender_First State Bank of Randolph County', 'lender_First State Bank of St. Charles, Missouri', 'lender_First State Bank of the Florida Keys', 'lender_First State Community Bank', 'lender_First Technology FCU', 'lender_First US Bank', 'lender_First United Bank', 'lender_First United Bank & Trust', 'lender_First United Bank and Trust Company', 'lender_First Utah Bank', 'lender_First Vision Bank of Tennessee', 'lender_First Volunteer Bank', 'lender_First Western Bank', 'lender_First Western SBLC, Inc', 'lender_First Western Trust Bank', 'lender_First-Citizens Bank & Trust Company', 'lender_First-Citizens National Bank', 'lender_FirstBank', 'lender_FirstCapital Bank of Texas, National Association', 'lender_FirstState Bank', 'lender_Firstar Bank', 'lender_Firstrust Savings Bank', 'lender_Five Star Bank', 'lender_Flagship Bank', 'lender_Flagstar Bank, FSB', 'lender_Flint Community Bank', 'lender_Florida A&M University FCU', 'lender_Florida Business Development Corporation', 'lender_Florida Capital Bank, National Association', 'lender_Forcht Bank, National Association', 'lender_Fortress Bank', 'lender_FortuneBank', 'lender_Forward Bank', 'lender_Fountainhead SBF LLC', 'lender_Frandsen Bank & Trust', 'lender_Freedom Bank', 'lender_FreedomBank', 'lender_Fresno First Bank', 'lender_Frontier State Bank', 'lender_Frost Bank', 'lender_Fulton Bank, National Association', 'lender_Fund-Ex Solutions Group, LLC', 'lender_Fundbox, Inc.', 'lender_GNBank, National Association', 'lender_Genesee Co-Op FCU', 'lender_Georgia Banking Company', 'lender_Georgia Community Bank', 'lender_Georgia Power Valdosta FCU', 'lender_Georgia Primary Bank', \"lender_Georgia's Own CU\", 'lender_Glacier Bank', 'lender_Glennville Bank', 'lender_Golden Bank, National Association', 'lender_Granite Community Bank', 'lender_Great Lakes CU', 'lender_Great Oaks Bank', 'lender_Great Plains National Bank', 'lender_Great Southern Bank', 'lender_Great Western Bank', 'lender_Greater Cleveland Community CU, Inc', 'lender_Greater Community Bank', 'lender_Greater Nevada CU', 'lender_Greeneville Federal Bank, FSB', 'lender_Greenstone Farm Credit Services, ACA', 'lender_Greenville FCU', 'lender_Grow America Fund, Incorporated', 'lender_Grow Financial FCU', 'lender_Guaranty Bank', 'lender_Guaranty Bank & Trust Company', 'lender_Guaranty Bank & Trust, National Association', 'lender_Guardian Bank', 'lender_Guardian CU', 'lender_Guardians CU', 'lender_Gulf Coast Bank', 'lender_Gulf Coast Bank and Trust Company', 'lender_HNB First Bank', 'lender_HOMEBANK', 'lender_HSBC Bank USA, National Association', 'lender_Hana Small Business Lending, Inc.', 'lender_Hancock Whitney Bank', 'lender_Hanmi Bank', 'lender_Hanover Community Bank', 'lender_Happy State Bank', 'lender_Harlem Entrepreneur Fund', 'lender_Harvest Small Business Finance, LLC', 'lender_Hawaii National Bank', 'lender_Heartland Bank and Trust Company', 'lender_Heartland CU', 'lender_Heritage Bank', 'lender_Heritage Bank of Commerce', 'lender_Heritage Bank, A Division of', 'lender_Heritage Bank, National Association', 'lender_Hills Bank and Trust Company', 'lender_HomeTrust Bank', 'lender_Hometown Bank of Corbin, Inc. d/b/a Hometown Bank', 'lender_Hope Enterprise Corporation', 'lender_Houston FCU', 'lender_Howard Bank', 'lender_Hudson Valley CU', 'lender_Hyperion Bank', 'lender_IAA CU', 'lender_INTRUST Bank, National Association', 'lender_Idaho First Bank', 'lender_Illinois Bank & Trust', 'lender_Incommons Bank, National Association', 'lender_IncredibleBank', 'lender_Independence Bank', 'lender_Independent Bank', 'lender_Indiana Members CU', 'lender_Insbank', 'lender_Integrity Bank & Trust', 'lender_InterBank', 'lender_International Bank of Commerce', 'lender_International Finance Bank', 'lender_Interstate Unlimited CU', 'lender_Intuit Financing Inc.', 'lender_Investar Bank, National Association', 'lender_Inwood National Bank', 'lender_Ion Bank', 'lender_Iowa Savings Bank', 'lender_Iowa State Bank', 'lender_Ipava State Bank', 'lender_Israel Discount Bank of New York', 'lender_Itria Ventures LLC', 'lender_JPMorgan Chase Bank, National Association', 'lender_Jackson County Bank', 'lender_Jackson Purchase Agriculture', 'lender_Jovia Financial FCU', 'lender_KEMBA Financial CU', 'lender_Kabbage, Inc.', 'lender_Kaw Valley Bank', 'lender_Kemba CU', 'lender_Kendall Bank', 'lender_Key Community Bank', 'lender_KeyBank National Association', 'lender_Keys FCU', 'lender_Keystone Bank, National Association', 'lender_Kinecta FCU', 'lender_Kinetic FCU d/b/a Kinetic CU', 'lender_Kish Bank', 'lender_L&N FCU', 'lender_LCA Bank Corporation', 'lender_LGE Community CU', 'lender_Lafayette State Bank', 'lender_Lake City Bank', 'lender_Lake Forest Bank & Trust Company, National Association', 'lender_Landmark Bank', 'lender_Landmark National Bank', 'lender_Las Colinas FCU', 'lender_Lead Bank', 'lender_Leader Bank, National Association', 'lender_Ledyard National Bank', 'lender_Legacy Bank', 'lender_Legacy Bank & Trust Company', 'lender_Legacy State Bank', 'lender_Legence Bank', 'lender_Legends Bank', 'lender_LendingClub Bank, National Association', 'lender_Level One Bank', 'lender_Lexicon Bank', 'lender_Liberty Bank and Trust Company', 'lender_Liberty Capital Bank', 'lender_Liberty First Bank', 'lender_Liberty SBF Holdings LLC', 'lender_Libertyville Bank & Trust Company, National Association', 'lender_LiftFund, Inc.', 'lender_Lincoln Savings Bank', 'lender_Live Oak Banking Company', 'lender_Loan Source Incorporated', 'lender_Logan Bank & Trust Company', 'lender_Lone Star National Bank', \"lender_Lower East Side People's FCU\", 'lender_Loyal Trust Bank', 'lender_MA Bank', 'lender_MAX CU', 'lender_MBE Capital Partners', 'lender_MUFG Union Bank, National Association', 'lender_MVB Bank, Inc.', 'lender_Machias Savings Bank', 'lender_Madison County Community Bank', 'lender_Magnolia State Bank', 'lender_MainStreet Bank', 'lender_Mainstreet Community Bank of Florida', 'lender_Malvern Bank, National Association', 'lender_Manufacturers Bank & Trust Company', 'lender_Manufacturers and Traders Trust Company', 'lender_Maple Bank', 'lender_Marine Bank', 'lender_Marine Bank & Trust Company', 'lender_Marion Bank and Trust Company', 'lender_Marlin Business Bank', 'lender_Mars Bank', 'lender_Marshland CU', \"lender_Martha's Vineyard Bank\", 'lender_McKenzie Banking Company', 'lender_Meadows Bank', 'lender_Mechanics & Farmers Bank', 'lender_Mechanics Bank', 'lender_Mechanics Cooperative Bank', 'lender_Members 1st FCU', 'lender_Members Choice WV FCU', 'lender_Merchants & Marine Bank', 'lender_Meridian Bank', 'lender_Merit Bank', 'lender_MetaBank, National Association', 'lender_Metairie Bank & Trust Company', 'lender_Metro Bank', 'lender_Metro City Bank', 'lender_Metropolitan Economic Development Association', 'lender_Mi Bank', 'lender_Michigan State University FCU', 'lender_Mid Penn Bank', 'lender_MidCountry Bank', 'lender_MidFirst Bank', 'lender_MidSouth Bank', 'lender_MidWestOne Bank', 'lender_Middlesex Federal Savings, F.A.', 'lender_Midflorida CU', 'lender_Midland States Bank', 'lender_Midwest Bank', 'lender_Midwest BankCentre', 'lender_Midwest Community Bank', 'lender_Midwest Regional Bank', 'lender_Millennial Bank', 'lender_Millennium Bank', 'lender_Mission Valley Bank', 'lender_Mississippi River Bank', 'lender_Mitchell Bank', 'lender_Monroe Federal Savings & Loan Association', 'lender_Montgomery Bank', 'lender_Morgantown Bank & Trust Company, Inc.', 'lender_Morris Bank', 'lender_Morton Community Bank', 'lender_Mount Vernon Bank', 'lender_Mountain America FCU', 'lender_Mountain Commerce Bank', 'lender_Multipli CU', 'lender_NBC Oklahoma', 'lender_NBKC Bank', 'lender_NCMIC Finance Corporation', 'lender_NCRC Community Development Fund, Inc.', 'lender_Nantahala Bank & Trust Company', 'lender_National Bank of St. Anne', 'lender_National Cooperative Bank, National Association', 'lender_Navy FCU', 'lender_Nebraska Bank of Commerce', 'lender_Neighbors FCU', 'lender_New Millennium Bank', 'lender_New Valley Bank & Trust', 'lender_New York Business Development Corporation', 'lender_New York Community Bank', 'lender_NewBank', 'lender_Newtek Small Business Finance, Inc.', 'lender_NextMark FCU', 'lender_Noah Bank', 'lender_NobleBank & Trust', 'lender_North Georgia National Bank', 'lender_North Side Federal Savings & Loan Association of Chicago', 'lender_North State Bank', 'lender_Northbrook Bank & Trust Company, National Association', 'lender_Northeast Bank', 'lender_Northeast Georgia Bank', 'lender_Northern Maine Development Commission', 'lender_Northrim Bank', 'lender_Northwest Bank', 'lender_Northwest FCU', 'lender_Northwest Florida ACA', 'lender_Northwestern Bank, National Association', 'lender_NoteWorthy FCU', 'lender_Notre Dame FCU', 'lender_OUCU Financial CU Inc', 'lender_Oak Valley Community Bank', 'lender_OakStar Bank', 'lender_Oakworth Capital Bank', 'lender_Ocean Bank', 'lender_Oconee Federal Savings & Loan Association', 'lender_Oconee State Bank', 'lender_Old Missouri Bank', 'lender_Old National Bank', 'lender_Old Plank Trail Community Bank, National Association', 'lender_One Florida Bank', 'lender_OneSouth Bank', 'lender_OneUnited Bank', 'lender_OneWest Bank, A Division of', 'lender_Open Bank', 'lender_Opportunity Fund Community Development', 'lender_OptimumBank', 'lender_Optus Bank', 'lender_Origin Bank', 'lender_Orrstown Bank', 'lender_Osgood State Bank', 'lender_Oxford Bank', 'lender_PNC Bank, National Association', 'lender_POINTWEST BANK', 'lender_Pacific City Bank', 'lender_Pacific Enterprise Bank', 'lender_Pacific National Bank', 'lender_Pacific Premier Bank', 'lender_Pacific Western Bank', 'lender_Palmetto State Bank', 'lender_Paradise Bank', 'lender_Paragon Bank', 'lender_Parke Bank', 'lender_Parkside Financial Bank & Trust', 'lender_Partners 1st FCU', 'lender_Partners Bank of New England', 'lender_Patriot Bank', 'lender_Patriot Bank, National Association', 'lender_Peach State Bank & Trust', 'lender_Peach State FCU', 'lender_People Trust', \"lender_People's Bank of Commerce\", \"lender_People's Bank of Seneca\", \"lender_People's United Bank, National Association\", 'lender_PeopleFund', 'lender_Peoples Bank', 'lender_Peoples Bank & Trust', 'lender_Peoples Bank and Trust Company', 'lender_Peoples Bank of Alabama', 'lender_Peoples Bank of East Tennessee', 'lender_Peoples Bank of the South', 'lender_Peoples Community Bank', 'lender_Peoples Independent Bank', 'lender_Peoples National Bank, National Association', 'lender_Peoples Security Bank and Trust Company', 'lender_Peoples State Bank', 'lender_PeoplesSouth Bank', 'lender_Persons Banking Company', 'lender_Phelps County Bank', 'lender_Phenix-Girard Bank', 'lender_Philadelphia FCU', 'lender_Phoenixville Federal Bank and Trust', 'lender_Piedmont Advantage CU', 'lender_Pilgrim Bank', 'lender_Pilot Bank', 'lender_Pineland Bank', 'lender_Pinnacle Bank', 'lender_Pinnacle CU', 'lender_Pinnacle FCU', 'lender_Pioneer Bank, SSB', 'lender_Plains Commerce Bank', 'lender_PlainsCapital Bank', 'lender_Planters & Citizens Bank', 'lender_Planters Bank & Trust Company', 'lender_Planters Bank, Inc.', 'lender_Planters First Bank', 'lender_Platinum Bank', 'lender_Platinum FCU', 'lender_Points West Community Bank', 'lender_Poppy Bank', 'lender_Popular Bank', 'lender_Powell Valley National Bank', 'lender_Preferred Bank', 'lender_Premier Bank', 'lender_Premier Bank of the South', 'lender_Prestamos CDFI, LLC', 'lender_Primary Bank', 'lender_Prime Meridian Bank', 'lender_Primesouth Bank', 'lender_Primis Bank', 'lender_PrinsBank', 'lender_PriorityOne Bank', 'lender_Professional Bank', 'lender_Progress Bank and Trust', 'lender_PromiseOne Bank', 'lender_Prosperity Bank', 'lender_Providence Bank & Trust', 'lender_Provident Bank', 'lender_Provident State Bank, Inc.', 'lender_Quaint Oak Bank', 'lender_Quantum National Bank', 'lender_Queensborough National Bank and Trust Company', 'lender_Rabun County Bank', 'lender_Raza Development Fund, Inc.', 'lender_Readycap Lending, LLC', 'lender_Red River Bank', 'lender_Redstone FCU', 'lender_Regent Bank', 'lender_Regions Bank', 'lender_Reliant Bank', 'lender_Renasant Bank', 'lender_Republic Bank & Trust Company', 'lender_Republic Bank of Chicago', 'lender_Republic First Bank d/b/a Republic Bank', 'lender_River Bank & Trust', 'lender_River City Bank', 'lender_River City FCU', 'lender_RiverBank', 'lender_Riverland Bank', 'lender_Riverview Bank', 'lender_Robertson Banking Company', 'lender_Robins Financial CU', 'lender_Rockland Trust Company', 'lender_S & T Bank', 'lender_SNB Bank, National Association', 'lender_STAR Financial Bank', 'lender_Sabal Palm Bank', 'lender_Sabine State Bank & Trust Company', 'lender_San Francisco Fire CU', 'lender_Sandhills Bank', 'lender_Sandhills State Bank', 'lender_Sandy Spring Bank', 'lender_Santander Bank, National Association', 'lender_Scenic Community CU', 'lender_Schertz Bank & Trust', 'lender_Seacoast National Bank', 'lender_Seattle Bank', 'lender_Security Bank and Trust Company', 'lender_Security Federal Bank', 'lender_Security National Bank of Omaha', 'lender_Security State Bank', 'lender_Select Bank', 'lender_Self-Help FCU', 'lender_ServisFirst Bank', 'lender_Shinhan Bank America', 'lender_Signature Bank', 'lender_Signature Bank of Georgia', 'lender_Silicon Valley Bank', 'lender_Silver Lake Bank', 'lender_Simmons Bank', 'lender_Simply Bank', 'lender_Skyline National Bank', 'lender_Small Business Assistance Corporation', 'lender_Small Business Bank', 'lender_SmartBank', 'lender_Solera National Bank', 'lender_South Atlantic Bank', 'lender_South Carolina FCU', 'lender_South Central Bank, Inc.', 'lender_South Coast Bank & Trust', 'lender_South Georgia Bank', 'lender_South Georgia Banking Company', 'lender_South Louisiana Bank', 'lender_South State Bank, National Association', 'lender_SouthEast Bank', 'lender_SouthPoint Bank', 'lender_SouthTrust Bank, National Association', 'lender_Southeast First National Bank', 'lender_Southeastern Bank', 'lender_Southeastern CU', 'lender_Southern Bancorp Bank', 'lender_Southern Bank', 'lender_Southern Bank and Trust Company', 'lender_Southern First Bank', 'lender_Southern Illinois Bank', 'lender_Southern Independent Bank', 'lender_Southern Michigan Bank & Trust', 'lender_Southern States Bank', 'lender_SouthernTrust Bank', 'lender_Southside Bank', 'lender_Southwest Capital Bank', 'lender_Southwest Georgia Farm Credit, ACA', 'lender_Southwest National Bank', 'lender_Southwestern National Bank', 'lender_Space Coast CU', 'lender_Spirit of Texas Bank, SSB', 'lender_Spring Bank', 'lender_Springs Valley Bank & Trust Company', 'lender_Square Capital, LLC', 'lender_Stanton State Bank', 'lender_State Bank', 'lender_State Bank & Trust', 'lender_State Bank of Cochran', 'lender_State Bank of Cross Plains', 'lender_State Bank of Southwest Missouri', 'lender_State Bank of Texas', 'lender_Stearns Bank National Association', 'lender_Sterling Bank', 'lender_Sterling National Bank', 'lender_Stock Yards Bank & Trust Company', 'lender_Stockman Bank of Montana', 'lender_Stone Bank', 'lender_Stride Bank, National Association', 'lender_Studio Bank', 'lender_SunMark Community Bank', 'lender_Suncoast CU', 'lender_Sunrise Banks, National Association', 'lender_Sunset Science Park FCU', 'lender_Sunstate Bank', 'lender_Sunwest Bank', 'lender_Surety Bank', 'lender_Susser Bank d/b/a Affiliated Bank', 'lender_Sutton Bank', 'lender_Synergy Bank', 'lender_Synovus Bank', 'lender_T Bank, National Association', 'lender_TBK Bank, SSB', 'lender_TC Federal Bank', 'lender_TD Bank, National Association', 'lender_TIAA Bank, A Division of', 'lender_TRF Enterprise Fund, Inc.', 'lender_Tandem Bank', 'lender_Tennessee State Bank', 'lender_Tennessee Valley FCU', 'lender_Terrabank, National Association', 'lender_Territorial Bank of American Samoa', 'lender_Texas Bank', 'lender_Texas Brand Bank', 'lender_Texas Capital Bank', 'lender_Texas Heritage Bank', 'lender_Texas National Bank', 'lender_Texas Partners Bank', 'lender_Texas Security Bank', 'lender_The American National Bank of Texas', 'lender_The Bancorp Bank', 'lender_The Bank of Beaver City', 'lender_The Bank of Edison', 'lender_The Bank of Grain Valley', 'lender_The Bank of Herrin', 'lender_The Bank of LaFayette, Georgia', 'lender_The Bank of Missouri', 'lender_The Bank of Soperton', 'lender_The Bank of Tampa', 'lender_The Bank of Vernon', 'lender_The Bennington State Bank', 'lender_The Benton State Bank', 'lender_The Bridgeway FCU', 'lender_The Bryn Mawr Trust Company', 'lender_The Canandaigua National Bank and Trust Company', 'lender_The Cecilian Bank', 'lender_The Central Trust Bank', 'lender_The Citizens Bank', 'lender_The Citizens Bank of Edmond', 'lender_The Citizens Bank of Georgia', 'lender_The Citizens Bank of Swainsboro', 'lender_The Citizens National Bank of Meridian', 'lender_The Citizens National Bank of Quitman', 'lender_The Citizens-Farmers Bank of Cole Camp', 'lender_The City National Bank of Metropolis', 'lender_The Claxton Bank', 'lender_The Cleveland State Bank', 'lender_The Commercial Bank', 'lender_The Conway National Bank', 'lender_The Dart Bank', 'lender_The Dolores State Bank', 'lender_The Enterprise Center Capital Corporation', 'lender_The Exchange Bank', 'lender_The Falls City National Bank', 'lender_The Farmers & Merchants Bank', 'lender_The Farmers & Merchants State Bank', 'lender_The Farmers State Bank', 'lender_The Farmers State Bank of Oakley, Kansas', 'lender_The First Bank and Trust Company', 'lender_The First National Bank in Amboy', 'lender_The First National Bank in Falfurrias', 'lender_The First National Bank in Sioux Falls', 'lender_The First National Bank of Ballinger', 'lender_The First National Bank of Hartford', 'lender_The First National Bank of Lawrence County at Walnut Ridge', 'lender_The First National Bank of Mertzon', 'lender_The First National Bank of South Miami', 'lender_The First National Bank of Sycamore', 'lender_The First National Bank of Waynesboro', 'lender_The First National Bank of Williamson', 'lender_The First State Bank', 'lender_The First, A National Banking Association', 'lender_The Frederick Community Bank', 'lender_The Genoa Banking Company', 'lender_The Geo. D. Warthen Bank', 'lender_The Harbor Bank of Maryland', 'lender_The Harrison County Bank', 'lender_The Home National Bank of Thorntown', 'lender_The Huntington National Bank', 'lender_The Lyons National Bank', 'lender_The MINT National Bank', 'lender_The Mercantile Bank of Louisiana, Missouri', 'lender_The Merchants & Citizens Bank', 'lender_The Missouri Bank', 'lender_The Murray Bank', 'lender_The National Bank of Malvern', 'lender_The Northern Trust Company', 'lender_The Paducah Bank and Trust Company', 'lender_The Park National Bank', 'lender_The Peoples Bank', 'lender_The Peoples Bank of Georgia', 'lender_The Piedmont Bank', 'lender_The Plains State Bank', 'lender_The Samson Banking Company', 'lender_The Security National Bank of Sioux City, Iowa', 'lender_The Security State Bank', 'lender_The Shelby County State Bank', 'lender_The State Bank', 'lender_The State Exchange Bank', 'lender_The Stock Exchange Bank', 'lender_The Union Bank Company', 'lender_The Wright CU', 'lender_Third Coast Bank SSB', 'lender_Thomasville National Bank', 'lender_Thrivent FCU', 'lender_Tidemark FCU', 'lender_Timberline Bank', 'lender_TimePayment Corp.', 'lender_Tioga-Franklin Savings Bank', 'lender_Titan Bank, National Association', \"lender_Today's Bank\", 'lender_Together CU', 'lender_Tompkins Trust Company', 'lender_Touchmark National Bank', 'lender_Tower Community Bank', 'lender_Town & Country Bank', 'lender_Town Center Bank', 'lender_Towne Bank', 'lender_Toyota Financial Savings Bank', 'lender_Traditions Bank', 'lender_TransPecos Banks, SSB.', 'lender_Transportation Alliance Bank, Inc. d/b/a TAB Bank, Inc.', 'lender_Travis CU', 'lender_TriStar Bank', 'lender_Triad Bank', 'lender_Triad Business Bank', 'lender_Trinity Bank, National Association', 'lender_Troy Bank & Trust Company', 'lender_TruFund Financial Services Inc', 'lender_Truist Bank d/b/a Branch Banking & Trust Co', 'lender_Truity FCU', 'lender_Truliant FCU', 'lender_Trust FCU', 'lender_TrustBank', 'lender_Trustar Bank', 'lender_Trustmark National Bank', 'lender_Truxton Trust Company', 'lender_U T FCU', 'lender_U.S. Bank, National Association', 'lender_U.S. Century Bank', 'lender_UBank', 'lender_UMB Bank, National Association', 'lender_US Eagle FCU', 'lender_US Metro Bank', 'lender_USC CU', 'lender_USF FCU', 'lender_Umpqua Bank', 'lender_UniBank', 'lender_Unify Financial FCU', 'lender_Union Bank & Trust Company', 'lender_Union Bank and Trust Company', 'lender_Union National Bank', 'lender_Union State Bank', 'lender_United Bank', 'lender_United Community Bank', 'lender_United Community Bank of West Kentucky, Inc.', 'lender_United FCU', 'lender_United Methodist Connectional FCU', 'lender_United Midwest Savings Bank, National Association', 'lender_United Mississippi Bank', 'lender_United National Bank', 'lender_United Southern Bank', 'lender_United States Senate FCU', 'lender_Unity Bank', 'lender_Unity National Bank of Houston', 'lender_University Bank', 'lender_Univest Bank and Trust Co.', 'lender_Uwharrie Bank', 'lender_Valley National Bank', 'lender_Vast Bank, National Association', 'lender_VeraBank, National Association', 'lender_Veritex Community Bank', 'lender_Verity CU', 'lender_Vermont State Empl CU', 'lender_Vibrant CU', 'lender_Village Bank and Trust, National Association', 'lender_Vinings Bank', 'lender_Virginia National Bank', 'lender_Vision Bank, National Association', 'lender_VisionBank', 'lender_Vista Bank', 'lender_Volunteer State Bank', 'lender_VyStar CU', 'lender_Wallis Bank', 'lender_Washington State Empl CU', 'lender_Waterford Bank, National Association', 'lender_Waterman Bank', 'lender_Waycross Bank & Trust', 'lender_Wayne Bank', 'lender_WebBank', 'lender_Webster Bank, National Association', 'lender_Webster Five Cents Savings Bank', 'lender_Wells Fargo Bank, National Association', 'lender_West Alabama Bank & Trust', 'lender_West Central Georgia Bank', 'lender_West Suburban Bank', 'lender_West Texas National Bank', 'lender_West Town Bank & Trust', 'lender_West Valley National Bank', 'lender_Western Alliance Bank', 'lender_Western Bank of Clovis', 'lender_Western National Bank', 'lender_Western Union Company', 'lender_Westfield Bank', 'lender_Westfield Bank, FSB', 'lender_Wheeler County State Bank', 'lender_Wilcox County State Bank', 'lender_Wilmington Savings Fund Society, FSB', 'lender_Wilson & Muir Bank & Trust Company', 'lender_Wilson Bank & Trust', 'lender_Wintrust Bank, National Association', 'lender_Wood & Huston Bank', 'lender_Woodforest National Bank', 'lender_Woori America Bank', 'lender_Workmens Circle CU', 'lender_World Trade Finance,  Inc.', 'lender_Wray State Bank', 'lender_Yampa Valley Bank', 'lender_Zions Bank, A Division of', 'lender_b1BANK', 'lender_iTHINK Financial CU', 'lender_immito, LLC', 'processing_method_PPS', 'loan_status_Exemption 4', 'loan_status_Paid in Full', 'rural_urban_indicator_U', 'hubzone_indicator_Y', 'lmi_indicator_Y']\n",
      "Coefficients = [[ 5.47264927e-09  6.42173049e-03  1.95563503e-02 ...  3.01115008e-01\n",
      "  -8.08951777e-01  7.22416861e-01]]\n",
      "Intercept = -0.916265\n"
     ]
    }
   ],
   "source": [
    "print(\"Variables = %s\" % data_train.columns.tolist())\n",
    "print(\"Coefficients = %s\" % mlr.coef_)\n",
    "print(\"Intercept = %f\" % mlr.intercept_)"
   ]
  },
  {
   "cell_type": "code",
   "execution_count": 75,
   "metadata": {
    "id": "5zLhkhCFF_iP"
   },
   "outputs": [
    {
     "name": "stdout",
     "output_type": "stream",
     "text": [
      "R2 for training = 0.98139\n",
      "R2 for validation = 0.98183\n"
     ]
    }
   ],
   "source": [
    " #R^2 Values for the give Train and Validation data\n",
    "print(\"R2 for training = %.5f\" % mlr.score(data_train, target_train))\n",
    "print(\"R2 for validation = %.5f\" % mlr.score(data_valid, target_valid))"
   ]
  },
  {
   "cell_type": "code",
   "execution_count": 76,
   "metadata": {},
   "outputs": [],
   "source": [
    "from sklearn.metrics import confusion_matrix\n",
    "import math"
   ]
  },
  {
   "cell_type": "code",
   "execution_count": 93,
   "metadata": {},
   "outputs": [
    {
     "name": "stdout",
     "output_type": "stream",
     "text": [
      "The Error for Train cutoff of 0.0 : 0.955131554302501\n",
      "The Error for Validation cutoff of 0.0 : 0.9561242093156986\n",
      "The Error for Train cutoff of 0.1 : 0.005071913723247996\n",
      "The Error for Validation cutoff of 0.1 : 0.004985623921794135\n",
      "The Error for Train cutoff of 0.2 : 0.005954199978312516\n",
      "The Error for Validation cutoff of 0.2 : 0.005796434732604945\n",
      "The Error for Train cutoff of 0.3 : 0.010535680839108448\n",
      "The Error for Validation cutoff of 0.3 : 0.010281771132834962\n",
      "The Error for Train cutoff of 0.4 : 0.014054967912382567\n",
      "The Error for Validation cutoff of 0.4 : 0.013875790684301323\n",
      "The Error for Train cutoff of 0.6 : 0.03070750485503889\n",
      "The Error for Validation cutoff of 0.6 : 0.030109258194364576\n",
      "The Error for Train cutoff of 0.7 : 0.03976202915980718\n",
      "The Error for Validation cutoff of 0.7 : 0.03909718228867165\n",
      "The Error for Train cutoff of 0.8 : 0.04486351672400706\n",
      "The Error for Validation cutoff of 0.8 : 0.04387579068430132\n",
      "The Error for Train cutoff of 0.9 : 0.044865981210753046\n",
      "The Error for Validation cutoff of 0.9 : 0.04387579068430132\n",
      "The Error for Train cutoff of 1.0 : 0.04486844569749904\n",
      "The Error for Validation cutoff of 1.0 : 0.04387579068430132\n"
     ]
    }
   ],
   "source": [
    "err = []\n",
    "for y in np.linspace(0,1,10):\n",
    "    x = round(y,1)\n",
    "    predicted_train_cut = np.where(predicted_train[:,1] > x,1,0)\n",
    "    predicted_valid_cut = np.where(predicted_valid[:,1] > x,1,0)\n",
    "\n",
    "    conf_train = confusion_matrix(target_train, predicted_train_cut)\n",
    "    conf_valid = confusion_matrix(target_valid, predicted_valid_cut)\n",
    "    print(\"The Error for Train cutoff of {} : {}\".format(x,(conf_train[0][1]+conf_train[1][0])/np.sum(conf_train)))\n",
    "    print(\"The Error for Validation cutoff of {} : {}\".format(x,(conf_valid[0][1]+conf_valid[1][0])/np.sum(conf_valid)))"
   ]
  },
  {
   "cell_type": "code",
   "execution_count": 94,
   "metadata": {},
   "outputs": [
    {
     "data": {
      "text/plain": [
       "array([[387259,    299],\n",
       "       [  1759,  16447]], dtype=int64)"
      ]
     },
     "execution_count": 94,
     "metadata": {},
     "output_type": "execute_result"
    }
   ],
   "source": [
    "predicted_train_cut = np.where(predicted_train[:,1] > 0.1,1,0)\n",
    "predicted_valid_cut = np.where(predicted_valid[:,1] > 0.1,1,0)\n",
    "\n",
    "conf_train = confusion_matrix(target_train, predicted_train_cut)\n",
    "conf_valid = confusion_matrix(target_valid, predicted_valid_cut)\n",
    "\n",
    "conf_train"
   ]
  },
  {
   "cell_type": "code",
   "execution_count": null,
   "metadata": {},
   "outputs": [],
   "source": [
    "0.0055847853582752\n",
    "\n",
    "0.0186093394189726"
   ]
  },
  {
   "cell_type": "code",
   "execution_count": 81,
   "metadata": {},
   "outputs": [
    {
     "data": {
      "text/plain": [
       "(array([3.89002e+05, 4.53000e+02, 1.02000e+03, 2.17900e+03, 1.47900e+03,\n",
       "        3.97200e+03, 4.33900e+03, 1.89500e+03, 1.42400e+03, 1.00000e+00]),\n",
       " array([5.41524564e-04, 9.38545644e-02, 1.87167604e-01, 2.80480644e-01,\n",
       "        3.73793684e-01, 4.67106724e-01, 5.60419764e-01, 6.53732804e-01,\n",
       "        7.47045844e-01, 8.40358883e-01, 9.33671923e-01]),\n",
       " <BarContainer object of 10 artists>)"
      ]
     },
     "execution_count": 81,
     "metadata": {},
     "output_type": "execute_result"
    },
    {
     "data": {
      "image/png": "[encoded data removed]",
      "text/plain": [
       "<Figure size 432x288 with 1 Axes>"
      ]
     },
     "metadata": {
      "needs_background": "light"
     },
     "output_type": "display_data"
    }
   ],
   "source": [
    "plt.hist(predicted_train[:,1])"
   ]
  },
  {
   "cell_type": "code",
   "execution_count": 95,
   "metadata": {},
   "outputs": [
    {
     "name": "stdout",
     "output_type": "stream",
     "text": [
      "0.005071913723247996\n"
     ]
    }
   ],
   "source": [
    "print((conf_train[0][1]+conf_train[1][0])/np.sum(conf_train))"
   ]
  },
  {
   "cell_type": "code",
   "execution_count": null,
   "metadata": {},
   "outputs": [
    {
     "name": "stderr",
     "output_type": "stream",
     "text": [
      "C:\\Users\\routh\\anaconda3\\lib\\site-packages\\seaborn\\axisgrid.py:1156: FutureWarning: elementwise comparison failed; returning scalar instead, but in the future will perform elementwise comparison\n",
      "  if hue in numeric_cols:\n"
     ]
    }
   ],
   "source": [
    "sns.pairplot(data_train,hue = target_train)"
   ]
  }
 ],
 "metadata": {
  "colab": {
   "name": "Info Challenge.ipynb",
   "provenance": []
  },
  "kernelspec": {
   "display_name": "Python 3",
   "language": "python",
   "name": "python3"
  },
  "language_info": {
   "codemirror_mode": {
    "name": "ipython",
    "version": 3
   },
   "file_extension": ".py",
   "mimetype": "text/x-python",
   "name": "python",
   "nbconvert_exporter": "python",
   "pygments_lexer": "ipython3",
   "version": "3.8.8"
  }
 },
 "nbformat": 4,
 "nbformat_minor": 1
}
